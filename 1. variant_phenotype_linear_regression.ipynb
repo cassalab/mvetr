{
 "cells": [
  {
   "cell_type": "code",
   "execution_count": 295,
   "id": "81620e4c-5b74-488a-93c4-9728b9780f1b",
   "metadata": {},
   "outputs": [
    {
     "name": "stdout",
     "output_type": "stream",
     "text": [
      "The autoreload extension is already loaded. To reload it, use:\n",
      "  %reload_ext autoreload\n"
     ]
    }
   ],
   "source": [
    "%load_ext autoreload\n",
    "%autoreload 2"
   ]
  },
  {
   "cell_type": "code",
   "execution_count": 1,
   "id": "04c0653d-f9a2-4e76-a4fb-aff2c5a56f92",
   "metadata": {},
   "outputs": [],
   "source": [
    "import pandas as pd\n",
    "import numpy as np\n",
    "\n",
    "from ukbb_data_scripts import constants\n",
    "from model_helpers import LogitRegression\n",
    "import global_constants\n",
    "\n",
    "import itertools\n",
    "\n",
    "import plotly.graph_objects as go\n",
    "\n",
    "from multiprocessing import Pool\n",
    "\n",
    "import scipy.stats as st"
   ]
  },
  {
   "cell_type": "code",
   "execution_count": 36,
   "id": "9870d93d-b91c-4116-9965-51c95c0e48c2",
   "metadata": {},
   "outputs": [],
   "source": [
    "def add_ci_filter_mean(df_arg, ci_alpha=0.95, min_mean=0):\n",
    "    df = df_arg.sort_values(\"mean\", ascending=False)\n",
    "    df[\"phenotype\"] = df[\"phenotype/gene\"].apply(lambda x: x.split(\"/\")[0])\n",
    "    df[\"gene\"] = df[\"phenotype/gene\"].apply(lambda x: x.split(\"/\")[1])\n",
    "    cis = st.norm.interval(alpha=ci_alpha, loc=df[\"mean\"], scale=df[\"std\"])\n",
    "\n",
    "    df[f\"ci\"] = (cis[1] - cis[0]) / 2\n",
    "    df[\"mean_ci_difference\"] = df[\"mean\"] - df[f\"ci\"]\n",
    "    return df[df[\"mean\"] > min_mean]"
   ]
  },
  {
   "cell_type": "code",
   "execution_count": 37,
   "id": "54fdec73-7f25-4043-8d8c-563c74d73d61",
   "metadata": {},
   "outputs": [],
   "source": [
    "def pick_top_phenotype_gene_pairs(df_arg, min_mean=0.05, no_samples=10):\n",
    "    # takes (by mean_ci_difference) unique phenotype/gene pairs that have mean above min_mean, sorted by subtracting ci from mean\n",
    "    df = df_arg.sort_values(\"mean_ci_difference\", ascending=False)\n",
    "    df = df[df[\"mean\"] > min_mean].drop_duplicates(\"phenotype/gene\").head(no_samples)\n",
    "    return df.sort_values(\"mean\", ascending=False)"
   ]
  },
  {
   "cell_type": "code",
   "execution_count": 38,
   "id": "9c137b2b-038e-44fd-bb74-4a024526f2d7",
   "metadata": {},
   "outputs": [],
   "source": [
    "all_adjusted_phenotypes = pd.read_pickle(constants.all_adjusted_phenotypes_path)"
   ]
  },
  {
   "cell_type": "code",
   "execution_count": 221,
   "id": "de4a2a05-35d2-4db9-8832-88f11f120250",
   "metadata": {},
   "outputs": [],
   "source": [
    "regression_results_df = pd.read_pickle(\"regression_results_extended.pkl\")"
   ]
  },
  {
   "cell_type": "code",
   "execution_count": 222,
   "id": "8a7d07f5-c495-465b-8ad8-88c67457e30a",
   "metadata": {},
   "outputs": [
    {
     "name": "stderr",
     "output_type": "stream",
     "text": [
      "/net/home/dlee/.conda/envs/py3/lib/python3.7/site-packages/scipy/stats/_distn_infrastructure.py:2098: RuntimeWarning:\n",
      "\n",
      "invalid value encountered in multiply\n",
      "\n",
      "/net/home/dlee/.conda/envs/py3/lib/python3.7/site-packages/scipy/stats/_distn_infrastructure.py:2099: RuntimeWarning:\n",
      "\n",
      "invalid value encountered in multiply\n",
      "\n"
     ]
    }
   ],
   "source": [
    "regression_results_df = add_ci_filter_mean(regression_results_df)\n",
    "# with mean above zero\n",
    "regression_results_df.to_pickle(\"regression_results_processed.pkl\")"
   ]
  },
  {
   "cell_type": "code",
   "execution_count": 41,
   "id": "554aaa33-230b-4186-ad32-de9865099cf8",
   "metadata": {},
   "outputs": [],
   "source": [
    "regression_results_for_plot = pick_top_phenotype_gene_pairs(regression_results_df)"
   ]
  },
  {
   "cell_type": "code",
   "execution_count": 189,
   "id": "74c147f4-fa1a-4a93-9555-928057e2931b",
   "metadata": {},
   "outputs": [
    {
     "data": {
      "application/vnd.plotly.v1+json": {
       "config": {
        "plotlyServerURL": "https://plot.ly"
       },
       "data": [
        {
         "error_y": {
          "array": [
           0.15225056960069117,
           0.1510382523409462,
           0.14359012567556187,
           0.19217119297953625,
           0.1580789858675661,
           0.1372929871373194,
           0.1328922675892011,
           0.11670260162236215,
           0.0898531670303344,
           0.07959825045441574
          ],
          "type": "data",
          "visible": true
         },
         "mode": "markers",
         "type": "scatter",
         "x": [
          "LDL direct/LDLR",
          "Apolipoprotein B/LDLR",
          "Cholesterol/LDLR",
          "Calcium/CASR",
          "Platelet distribution width/TUBB1",
          "Apolipoprotein A/LIPC",
          "Cholesterol/PCSK9",
          "HDL cholesterol/LIPC",
          "Platelet crit/JAK2",
          "Platelet count/JAK2"
         ],
         "y": [
          0.18314725297107284,
          0.17129343764948424,
          0.14807139706673086,
          0.14738620336749483,
          0.13236418440901207,
          0.0741700927596064,
          0.059885812182852466,
          0.05708713324099111,
          0.05690520681939855,
          0.05277711091773893
         ]
        }
       ],
       "layout": {
        "autosize": true,
        "template": {
         "data": {
          "bar": [
           {
            "error_x": {
             "color": "#2a3f5f"
            },
            "error_y": {
             "color": "#2a3f5f"
            },
            "marker": {
             "line": {
              "color": "#E5ECF6",
              "width": 0.5
             },
             "pattern": {
              "fillmode": "overlay",
              "size": 10,
              "solidity": 0.2
             }
            },
            "type": "bar"
           }
          ],
          "barpolar": [
           {
            "marker": {
             "line": {
              "color": "#E5ECF6",
              "width": 0.5
             },
             "pattern": {
              "fillmode": "overlay",
              "size": 10,
              "solidity": 0.2
             }
            },
            "type": "barpolar"
           }
          ],
          "carpet": [
           {
            "aaxis": {
             "endlinecolor": "#2a3f5f",
             "gridcolor": "white",
             "linecolor": "white",
             "minorgridcolor": "white",
             "startlinecolor": "#2a3f5f"
            },
            "baxis": {
             "endlinecolor": "#2a3f5f",
             "gridcolor": "white",
             "linecolor": "white",
             "minorgridcolor": "white",
             "startlinecolor": "#2a3f5f"
            },
            "type": "carpet"
           }
          ],
          "choropleth": [
           {
            "colorbar": {
             "outlinewidth": 0,
             "ticks": ""
            },
            "type": "choropleth"
           }
          ],
          "contour": [
           {
            "colorbar": {
             "outlinewidth": 0,
             "ticks": ""
            },
            "colorscale": [
             [
              0,
              "#0d0887"
             ],
             [
              0.1111111111111111,
              "#46039f"
             ],
             [
              0.2222222222222222,
              "#7201a8"
             ],
             [
              0.3333333333333333,
              "#9c179e"
             ],
             [
              0.4444444444444444,
              "#bd3786"
             ],
             [
              0.5555555555555556,
              "#d8576b"
             ],
             [
              0.6666666666666666,
              "#ed7953"
             ],
             [
              0.7777777777777778,
              "#fb9f3a"
             ],
             [
              0.8888888888888888,
              "#fdca26"
             ],
             [
              1,
              "#f0f921"
             ]
            ],
            "type": "contour"
           }
          ],
          "contourcarpet": [
           {
            "colorbar": {
             "outlinewidth": 0,
             "ticks": ""
            },
            "type": "contourcarpet"
           }
          ],
          "heatmap": [
           {
            "colorbar": {
             "outlinewidth": 0,
             "ticks": ""
            },
            "colorscale": [
             [
              0,
              "#0d0887"
             ],
             [
              0.1111111111111111,
              "#46039f"
             ],
             [
              0.2222222222222222,
              "#7201a8"
             ],
             [
              0.3333333333333333,
              "#9c179e"
             ],
             [
              0.4444444444444444,
              "#bd3786"
             ],
             [
              0.5555555555555556,
              "#d8576b"
             ],
             [
              0.6666666666666666,
              "#ed7953"
             ],
             [
              0.7777777777777778,
              "#fb9f3a"
             ],
             [
              0.8888888888888888,
              "#fdca26"
             ],
             [
              1,
              "#f0f921"
             ]
            ],
            "type": "heatmap"
           }
          ],
          "heatmapgl": [
           {
            "colorbar": {
             "outlinewidth": 0,
             "ticks": ""
            },
            "colorscale": [
             [
              0,
              "#0d0887"
             ],
             [
              0.1111111111111111,
              "#46039f"
             ],
             [
              0.2222222222222222,
              "#7201a8"
             ],
             [
              0.3333333333333333,
              "#9c179e"
             ],
             [
              0.4444444444444444,
              "#bd3786"
             ],
             [
              0.5555555555555556,
              "#d8576b"
             ],
             [
              0.6666666666666666,
              "#ed7953"
             ],
             [
              0.7777777777777778,
              "#fb9f3a"
             ],
             [
              0.8888888888888888,
              "#fdca26"
             ],
             [
              1,
              "#f0f921"
             ]
            ],
            "type": "heatmapgl"
           }
          ],
          "histogram": [
           {
            "marker": {
             "pattern": {
              "fillmode": "overlay",
              "size": 10,
              "solidity": 0.2
             }
            },
            "type": "histogram"
           }
          ],
          "histogram2d": [
           {
            "colorbar": {
             "outlinewidth": 0,
             "ticks": ""
            },
            "colorscale": [
             [
              0,
              "#0d0887"
             ],
             [
              0.1111111111111111,
              "#46039f"
             ],
             [
              0.2222222222222222,
              "#7201a8"
             ],
             [
              0.3333333333333333,
              "#9c179e"
             ],
             [
              0.4444444444444444,
              "#bd3786"
             ],
             [
              0.5555555555555556,
              "#d8576b"
             ],
             [
              0.6666666666666666,
              "#ed7953"
             ],
             [
              0.7777777777777778,
              "#fb9f3a"
             ],
             [
              0.8888888888888888,
              "#fdca26"
             ],
             [
              1,
              "#f0f921"
             ]
            ],
            "type": "histogram2d"
           }
          ],
          "histogram2dcontour": [
           {
            "colorbar": {
             "outlinewidth": 0,
             "ticks": ""
            },
            "colorscale": [
             [
              0,
              "#0d0887"
             ],
             [
              0.1111111111111111,
              "#46039f"
             ],
             [
              0.2222222222222222,
              "#7201a8"
             ],
             [
              0.3333333333333333,
              "#9c179e"
             ],
             [
              0.4444444444444444,
              "#bd3786"
             ],
             [
              0.5555555555555556,
              "#d8576b"
             ],
             [
              0.6666666666666666,
              "#ed7953"
             ],
             [
              0.7777777777777778,
              "#fb9f3a"
             ],
             [
              0.8888888888888888,
              "#fdca26"
             ],
             [
              1,
              "#f0f921"
             ]
            ],
            "type": "histogram2dcontour"
           }
          ],
          "mesh3d": [
           {
            "colorbar": {
             "outlinewidth": 0,
             "ticks": ""
            },
            "type": "mesh3d"
           }
          ],
          "parcoords": [
           {
            "line": {
             "colorbar": {
              "outlinewidth": 0,
              "ticks": ""
             }
            },
            "type": "parcoords"
           }
          ],
          "pie": [
           {
            "automargin": true,
            "type": "pie"
           }
          ],
          "scatter": [
           {
            "fillpattern": {
             "fillmode": "overlay",
             "size": 10,
             "solidity": 0.2
            },
            "type": "scatter"
           }
          ],
          "scatter3d": [
           {
            "line": {
             "colorbar": {
              "outlinewidth": 0,
              "ticks": ""
             }
            },
            "marker": {
             "colorbar": {
              "outlinewidth": 0,
              "ticks": ""
             }
            },
            "type": "scatter3d"
           }
          ],
          "scattercarpet": [
           {
            "marker": {
             "colorbar": {
              "outlinewidth": 0,
              "ticks": ""
             }
            },
            "type": "scattercarpet"
           }
          ],
          "scattergeo": [
           {
            "marker": {
             "colorbar": {
              "outlinewidth": 0,
              "ticks": ""
             }
            },
            "type": "scattergeo"
           }
          ],
          "scattergl": [
           {
            "marker": {
             "colorbar": {
              "outlinewidth": 0,
              "ticks": ""
             }
            },
            "type": "scattergl"
           }
          ],
          "scattermapbox": [
           {
            "marker": {
             "colorbar": {
              "outlinewidth": 0,
              "ticks": ""
             }
            },
            "type": "scattermapbox"
           }
          ],
          "scatterpolar": [
           {
            "marker": {
             "colorbar": {
              "outlinewidth": 0,
              "ticks": ""
             }
            },
            "type": "scatterpolar"
           }
          ],
          "scatterpolargl": [
           {
            "marker": {
             "colorbar": {
              "outlinewidth": 0,
              "ticks": ""
             }
            },
            "type": "scatterpolargl"
           }
          ],
          "scatterternary": [
           {
            "marker": {
             "colorbar": {
              "outlinewidth": 0,
              "ticks": ""
             }
            },
            "type": "scatterternary"
           }
          ],
          "surface": [
           {
            "colorbar": {
             "outlinewidth": 0,
             "ticks": ""
            },
            "colorscale": [
             [
              0,
              "#0d0887"
             ],
             [
              0.1111111111111111,
              "#46039f"
             ],
             [
              0.2222222222222222,
              "#7201a8"
             ],
             [
              0.3333333333333333,
              "#9c179e"
             ],
             [
              0.4444444444444444,
              "#bd3786"
             ],
             [
              0.5555555555555556,
              "#d8576b"
             ],
             [
              0.6666666666666666,
              "#ed7953"
             ],
             [
              0.7777777777777778,
              "#fb9f3a"
             ],
             [
              0.8888888888888888,
              "#fdca26"
             ],
             [
              1,
              "#f0f921"
             ]
            ],
            "type": "surface"
           }
          ],
          "table": [
           {
            "cells": {
             "fill": {
              "color": "#EBF0F8"
             },
             "line": {
              "color": "white"
             }
            },
            "header": {
             "fill": {
              "color": "#C8D4E3"
             },
             "line": {
              "color": "white"
             }
            },
            "type": "table"
           }
          ]
         },
         "layout": {
          "annotationdefaults": {
           "arrowcolor": "#2a3f5f",
           "arrowhead": 0,
           "arrowwidth": 1
          },
          "autotypenumbers": "strict",
          "coloraxis": {
           "colorbar": {
            "outlinewidth": 0,
            "ticks": ""
           }
          },
          "colorscale": {
           "diverging": [
            [
             0,
             "#8e0152"
            ],
            [
             0.1,
             "#c51b7d"
            ],
            [
             0.2,
             "#de77ae"
            ],
            [
             0.3,
             "#f1b6da"
            ],
            [
             0.4,
             "#fde0ef"
            ],
            [
             0.5,
             "#f7f7f7"
            ],
            [
             0.6,
             "#e6f5d0"
            ],
            [
             0.7,
             "#b8e186"
            ],
            [
             0.8,
             "#7fbc41"
            ],
            [
             0.9,
             "#4d9221"
            ],
            [
             1,
             "#276419"
            ]
           ],
           "sequential": [
            [
             0,
             "#0d0887"
            ],
            [
             0.1111111111111111,
             "#46039f"
            ],
            [
             0.2222222222222222,
             "#7201a8"
            ],
            [
             0.3333333333333333,
             "#9c179e"
            ],
            [
             0.4444444444444444,
             "#bd3786"
            ],
            [
             0.5555555555555556,
             "#d8576b"
            ],
            [
             0.6666666666666666,
             "#ed7953"
            ],
            [
             0.7777777777777778,
             "#fb9f3a"
            ],
            [
             0.8888888888888888,
             "#fdca26"
            ],
            [
             1,
             "#f0f921"
            ]
           ],
           "sequentialminus": [
            [
             0,
             "#0d0887"
            ],
            [
             0.1111111111111111,
             "#46039f"
            ],
            [
             0.2222222222222222,
             "#7201a8"
            ],
            [
             0.3333333333333333,
             "#9c179e"
            ],
            [
             0.4444444444444444,
             "#bd3786"
            ],
            [
             0.5555555555555556,
             "#d8576b"
            ],
            [
             0.6666666666666666,
             "#ed7953"
            ],
            [
             0.7777777777777778,
             "#fb9f3a"
            ],
            [
             0.8888888888888888,
             "#fdca26"
            ],
            [
             1,
             "#f0f921"
            ]
           ]
          },
          "colorway": [
           "#636efa",
           "#EF553B",
           "#00cc96",
           "#ab63fa",
           "#FFA15A",
           "#19d3f3",
           "#FF6692",
           "#B6E880",
           "#FF97FF",
           "#FECB52"
          ],
          "font": {
           "color": "#2a3f5f"
          },
          "geo": {
           "bgcolor": "white",
           "lakecolor": "white",
           "landcolor": "#E5ECF6",
           "showlakes": true,
           "showland": true,
           "subunitcolor": "white"
          },
          "hoverlabel": {
           "align": "left"
          },
          "hovermode": "closest",
          "mapbox": {
           "style": "light"
          },
          "paper_bgcolor": "white",
          "plot_bgcolor": "#E5ECF6",
          "polar": {
           "angularaxis": {
            "gridcolor": "white",
            "linecolor": "white",
            "ticks": ""
           },
           "bgcolor": "#E5ECF6",
           "radialaxis": {
            "gridcolor": "white",
            "linecolor": "white",
            "ticks": ""
           }
          },
          "scene": {
           "xaxis": {
            "backgroundcolor": "#E5ECF6",
            "gridcolor": "white",
            "gridwidth": 2,
            "linecolor": "white",
            "showbackground": true,
            "ticks": "",
            "zerolinecolor": "white"
           },
           "yaxis": {
            "backgroundcolor": "#E5ECF6",
            "gridcolor": "white",
            "gridwidth": 2,
            "linecolor": "white",
            "showbackground": true,
            "ticks": "",
            "zerolinecolor": "white"
           },
           "zaxis": {
            "backgroundcolor": "#E5ECF6",
            "gridcolor": "white",
            "gridwidth": 2,
            "linecolor": "white",
            "showbackground": true,
            "ticks": "",
            "zerolinecolor": "white"
           }
          },
          "shapedefaults": {
           "line": {
            "color": "#2a3f5f"
           }
          },
          "ternary": {
           "aaxis": {
            "gridcolor": "white",
            "linecolor": "white",
            "ticks": ""
           },
           "baxis": {
            "gridcolor": "white",
            "linecolor": "white",
            "ticks": ""
           },
           "bgcolor": "#E5ECF6",
           "caxis": {
            "gridcolor": "white",
            "linecolor": "white",
            "ticks": ""
           }
          },
          "title": {
           "x": 0.05
          },
          "xaxis": {
           "automargin": true,
           "gridcolor": "white",
           "linecolor": "white",
           "ticks": "",
           "title": {
            "standoff": 15
           },
           "zerolinecolor": "white",
           "zerolinewidth": 2
          },
          "yaxis": {
           "automargin": true,
           "gridcolor": "white",
           "linecolor": "white",
           "ticks": "",
           "title": {
            "standoff": 15
           },
           "zerolinecolor": "white",
           "zerolinewidth": 2
          }
         }
        },
        "title": {
         "text": "Linear regression on traits, single feature, 95% CI"
        },
        "xaxis": {
         "autorange": true,
         "range": [
          -0.5727590221187425,
          9.572759022118742
         ],
         "type": "category"
        },
        "yaxis": {
         "range": [
          -0.2,
          1
         ],
         "title": {
          "text": "R2"
         },
         "type": "linear"
        }
       }
      },
      "image/png": "[encoded data removed]",
      "text/html": [
       "<div>                            <div id=\"0d98ca10-73d1-44d4-89a5-061f3109ca28\" class=\"plotly-graph-div\" style=\"height:525px; width:100%;\"></div>            <script type=\"text/javascript\">                require([\"plotly\"], function(Plotly) {                    window.PLOTLYENV=window.PLOTLYENV || {};                                    if (document.getElementById(\"0d98ca10-73d1-44d4-89a5-061f3109ca28\")) {                    Plotly.newPlot(                        \"0d98ca10-73d1-44d4-89a5-061f3109ca28\",                        [{\"error_y\":{\"array\":[0.15225056960069117,0.1510382523409462,0.14359012567556187,0.19217119297953625,0.1580789858675661,0.1372929871373194,0.1328922675892011,0.11670260162236215,0.0898531670303344,0.07959825045441574],\"type\":\"data\",\"visible\":true},\"mode\":\"markers\",\"x\":[\"LDL direct/LDLR\",\"Apolipoprotein B/LDLR\",\"Cholesterol/LDLR\",\"Calcium/CASR\",\"Platelet distribution width/TUBB1\",\"Apolipoprotein A/LIPC\",\"Cholesterol/PCSK9\",\"HDL cholesterol/LIPC\",\"Platelet crit/JAK2\",\"Platelet count/JAK2\"],\"y\":[0.18314725297107284,0.17129343764948424,0.14807139706673086,0.14738620336749483,0.13236418440901207,0.0741700927596064,0.059885812182852466,0.05708713324099111,0.05690520681939855,0.05277711091773893],\"type\":\"scatter\"}],                        {\"title\":{\"text\":\"Linear regression on traits, single feature, 95% CI\"},\"yaxis\":{\"title\":{\"text\":\"R2\"},\"range\":[-0.2,1]},\"template\":{\"data\":{\"histogram2dcontour\":[{\"type\":\"histogram2dcontour\",\"colorbar\":{\"outlinewidth\":0,\"ticks\":\"\"},\"colorscale\":[[0.0,\"#0d0887\"],[0.1111111111111111,\"#46039f\"],[0.2222222222222222,\"#7201a8\"],[0.3333333333333333,\"#9c179e\"],[0.4444444444444444,\"#bd3786\"],[0.5555555555555556,\"#d8576b\"],[0.6666666666666666,\"#ed7953\"],[0.7777777777777778,\"#fb9f3a\"],[0.8888888888888888,\"#fdca26\"],[1.0,\"#f0f921\"]]}],\"choropleth\":[{\"type\":\"choropleth\",\"colorbar\":{\"outlinewidth\":0,\"ticks\":\"\"}}],\"histogram2d\":[{\"type\":\"histogram2d\",\"colorbar\":{\"outlinewidth\":0,\"ticks\":\"\"},\"colorscale\":[[0.0,\"#0d0887\"],[0.1111111111111111,\"#46039f\"],[0.2222222222222222,\"#7201a8\"],[0.3333333333333333,\"#9c179e\"],[0.4444444444444444,\"#bd3786\"],[0.5555555555555556,\"#d8576b\"],[0.6666666666666666,\"#ed7953\"],[0.7777777777777778,\"#fb9f3a\"],[0.8888888888888888,\"#fdca26\"],[1.0,\"#f0f921\"]]}],\"heatmap\":[{\"type\":\"heatmap\",\"colorbar\":{\"outlinewidth\":0,\"ticks\":\"\"},\"colorscale\":[[0.0,\"#0d0887\"],[0.1111111111111111,\"#46039f\"],[0.2222222222222222,\"#7201a8\"],[0.3333333333333333,\"#9c179e\"],[0.4444444444444444,\"#bd3786\"],[0.5555555555555556,\"#d8576b\"],[0.6666666666666666,\"#ed7953\"],[0.7777777777777778,\"#fb9f3a\"],[0.8888888888888888,\"#fdca26\"],[1.0,\"#f0f921\"]]}],\"heatmapgl\":[{\"type\":\"heatmapgl\",\"colorbar\":{\"outlinewidth\":0,\"ticks\":\"\"},\"colorscale\":[[0.0,\"#0d0887\"],[0.1111111111111111,\"#46039f\"],[0.2222222222222222,\"#7201a8\"],[0.3333333333333333,\"#9c179e\"],[0.4444444444444444,\"#bd3786\"],[0.5555555555555556,\"#d8576b\"],[0.6666666666666666,\"#ed7953\"],[0.7777777777777778,\"#fb9f3a\"],[0.8888888888888888,\"#fdca26\"],[1.0,\"#f0f921\"]]}],\"contourcarpet\":[{\"type\":\"contourcarpet\",\"colorbar\":{\"outlinewidth\":0,\"ticks\":\"\"}}],\"contour\":[{\"type\":\"contour\",\"colorbar\":{\"outlinewidth\":0,\"ticks\":\"\"},\"colorscale\":[[0.0,\"#0d0887\"],[0.1111111111111111,\"#46039f\"],[0.2222222222222222,\"#7201a8\"],[0.3333333333333333,\"#9c179e\"],[0.4444444444444444,\"#bd3786\"],[0.5555555555555556,\"#d8576b\"],[0.6666666666666666,\"#ed7953\"],[0.7777777777777778,\"#fb9f3a\"],[0.8888888888888888,\"#fdca26\"],[1.0,\"#f0f921\"]]}],\"surface\":[{\"type\":\"surface\",\"colorbar\":{\"outlinewidth\":0,\"ticks\":\"\"},\"colorscale\":[[0.0,\"#0d0887\"],[0.1111111111111111,\"#46039f\"],[0.2222222222222222,\"#7201a8\"],[0.3333333333333333,\"#9c179e\"],[0.4444444444444444,\"#bd3786\"],[0.5555555555555556,\"#d8576b\"],[0.6666666666666666,\"#ed7953\"],[0.7777777777777778,\"#fb9f3a\"],[0.8888888888888888,\"#fdca26\"],[1.0,\"#f0f921\"]]}],\"mesh3d\":[{\"type\":\"mesh3d\",\"colorbar\":{\"outlinewidth\":0,\"ticks\":\"\"}}],\"scatter\":[{\"fillpattern\":{\"fillmode\":\"overlay\",\"size\":10,\"solidity\":0.2},\"type\":\"scatter\"}],\"parcoords\":[{\"type\":\"parcoords\",\"line\":{\"colorbar\":{\"outlinewidth\":0,\"ticks\":\"\"}}}],\"scatterpolargl\":[{\"type\":\"scatterpolargl\",\"marker\":{\"colorbar\":{\"outlinewidth\":0,\"ticks\":\"\"}}}],\"bar\":[{\"error_x\":{\"color\":\"#2a3f5f\"},\"error_y\":{\"color\":\"#2a3f5f\"},\"marker\":{\"line\":{\"color\":\"#E5ECF6\",\"width\":0.5},\"pattern\":{\"fillmode\":\"overlay\",\"size\":10,\"solidity\":0.2}},\"type\":\"bar\"}],\"scattergeo\":[{\"type\":\"scattergeo\",\"marker\":{\"colorbar\":{\"outlinewidth\":0,\"ticks\":\"\"}}}],\"scatterpolar\":[{\"type\":\"scatterpolar\",\"marker\":{\"colorbar\":{\"outlinewidth\":0,\"ticks\":\"\"}}}],\"histogram\":[{\"marker\":{\"pattern\":{\"fillmode\":\"overlay\",\"size\":10,\"solidity\":0.2}},\"type\":\"histogram\"}],\"scattergl\":[{\"type\":\"scattergl\",\"marker\":{\"colorbar\":{\"outlinewidth\":0,\"ticks\":\"\"}}}],\"scatter3d\":[{\"type\":\"scatter3d\",\"line\":{\"colorbar\":{\"outlinewidth\":0,\"ticks\":\"\"}},\"marker\":{\"colorbar\":{\"outlinewidth\":0,\"ticks\":\"\"}}}],\"scattermapbox\":[{\"type\":\"scattermapbox\",\"marker\":{\"colorbar\":{\"outlinewidth\":0,\"ticks\":\"\"}}}],\"scatterternary\":[{\"type\":\"scatterternary\",\"marker\":{\"colorbar\":{\"outlinewidth\":0,\"ticks\":\"\"}}}],\"scattercarpet\":[{\"type\":\"scattercarpet\",\"marker\":{\"colorbar\":{\"outlinewidth\":0,\"ticks\":\"\"}}}],\"carpet\":[{\"aaxis\":{\"endlinecolor\":\"#2a3f5f\",\"gridcolor\":\"white\",\"linecolor\":\"white\",\"minorgridcolor\":\"white\",\"startlinecolor\":\"#2a3f5f\"},\"baxis\":{\"endlinecolor\":\"#2a3f5f\",\"gridcolor\":\"white\",\"linecolor\":\"white\",\"minorgridcolor\":\"white\",\"startlinecolor\":\"#2a3f5f\"},\"type\":\"carpet\"}],\"table\":[{\"cells\":{\"fill\":{\"color\":\"#EBF0F8\"},\"line\":{\"color\":\"white\"}},\"header\":{\"fill\":{\"color\":\"#C8D4E3\"},\"line\":{\"color\":\"white\"}},\"type\":\"table\"}],\"barpolar\":[{\"marker\":{\"line\":{\"color\":\"#E5ECF6\",\"width\":0.5},\"pattern\":{\"fillmode\":\"overlay\",\"size\":10,\"solidity\":0.2}},\"type\":\"barpolar\"}],\"pie\":[{\"automargin\":true,\"type\":\"pie\"}]},\"layout\":{\"autotypenumbers\":\"strict\",\"colorway\":[\"#636efa\",\"#EF553B\",\"#00cc96\",\"#ab63fa\",\"#FFA15A\",\"#19d3f3\",\"#FF6692\",\"#B6E880\",\"#FF97FF\",\"#FECB52\"],\"font\":{\"color\":\"#2a3f5f\"},\"hovermode\":\"closest\",\"hoverlabel\":{\"align\":\"left\"},\"paper_bgcolor\":\"white\",\"plot_bgcolor\":\"#E5ECF6\",\"polar\":{\"bgcolor\":\"#E5ECF6\",\"angularaxis\":{\"gridcolor\":\"white\",\"linecolor\":\"white\",\"ticks\":\"\"},\"radialaxis\":{\"gridcolor\":\"white\",\"linecolor\":\"white\",\"ticks\":\"\"}},\"ternary\":{\"bgcolor\":\"#E5ECF6\",\"aaxis\":{\"gridcolor\":\"white\",\"linecolor\":\"white\",\"ticks\":\"\"},\"baxis\":{\"gridcolor\":\"white\",\"linecolor\":\"white\",\"ticks\":\"\"},\"caxis\":{\"gridcolor\":\"white\",\"linecolor\":\"white\",\"ticks\":\"\"}},\"coloraxis\":{\"colorbar\":{\"outlinewidth\":0,\"ticks\":\"\"}},\"colorscale\":{\"sequential\":[[0.0,\"#0d0887\"],[0.1111111111111111,\"#46039f\"],[0.2222222222222222,\"#7201a8\"],[0.3333333333333333,\"#9c179e\"],[0.4444444444444444,\"#bd3786\"],[0.5555555555555556,\"#d8576b\"],[0.6666666666666666,\"#ed7953\"],[0.7777777777777778,\"#fb9f3a\"],[0.8888888888888888,\"#fdca26\"],[1.0,\"#f0f921\"]],\"sequentialminus\":[[0.0,\"#0d0887\"],[0.1111111111111111,\"#46039f\"],[0.2222222222222222,\"#7201a8\"],[0.3333333333333333,\"#9c179e\"],[0.4444444444444444,\"#bd3786\"],[0.5555555555555556,\"#d8576b\"],[0.6666666666666666,\"#ed7953\"],[0.7777777777777778,\"#fb9f3a\"],[0.8888888888888888,\"#fdca26\"],[1.0,\"#f0f921\"]],\"diverging\":[[0,\"#8e0152\"],[0.1,\"#c51b7d\"],[0.2,\"#de77ae\"],[0.3,\"#f1b6da\"],[0.4,\"#fde0ef\"],[0.5,\"#f7f7f7\"],[0.6,\"#e6f5d0\"],[0.7,\"#b8e186\"],[0.8,\"#7fbc41\"],[0.9,\"#4d9221\"],[1,\"#276419\"]]},\"xaxis\":{\"gridcolor\":\"white\",\"linecolor\":\"white\",\"ticks\":\"\",\"title\":{\"standoff\":15},\"zerolinecolor\":\"white\",\"automargin\":true,\"zerolinewidth\":2},\"yaxis\":{\"gridcolor\":\"white\",\"linecolor\":\"white\",\"ticks\":\"\",\"title\":{\"standoff\":15},\"zerolinecolor\":\"white\",\"automargin\":true,\"zerolinewidth\":2},\"scene\":{\"xaxis\":{\"backgroundcolor\":\"#E5ECF6\",\"gridcolor\":\"white\",\"linecolor\":\"white\",\"showbackground\":true,\"ticks\":\"\",\"zerolinecolor\":\"white\",\"gridwidth\":2},\"yaxis\":{\"backgroundcolor\":\"#E5ECF6\",\"gridcolor\":\"white\",\"linecolor\":\"white\",\"showbackground\":true,\"ticks\":\"\",\"zerolinecolor\":\"white\",\"gridwidth\":2},\"zaxis\":{\"backgroundcolor\":\"#E5ECF6\",\"gridcolor\":\"white\",\"linecolor\":\"white\",\"showbackground\":true,\"ticks\":\"\",\"zerolinecolor\":\"white\",\"gridwidth\":2}},\"shapedefaults\":{\"line\":{\"color\":\"#2a3f5f\"}},\"annotationdefaults\":{\"arrowcolor\":\"#2a3f5f\",\"arrowhead\":0,\"arrowwidth\":1},\"geo\":{\"bgcolor\":\"white\",\"landcolor\":\"#E5ECF6\",\"subunitcolor\":\"white\",\"showland\":true,\"showlakes\":true,\"lakecolor\":\"white\"},\"title\":{\"x\":0.05},\"mapbox\":{\"style\":\"light\"}}}},                        {\"responsive\": true}                    ).then(function(){\n",
       "                            \n",
       "var gd = document.getElementById('0d98ca10-73d1-44d4-89a5-061f3109ca28');\n",
       "var x = new MutationObserver(function (mutations, observer) {{\n",
       "        var display = window.getComputedStyle(gd).display;\n",
       "        if (!display || display === 'none') {{\n",
       "            console.log([gd, 'removed!']);\n",
       "            Plotly.purge(gd);\n",
       "            observer.disconnect();\n",
       "        }}\n",
       "}});\n",
       "\n",
       "// Listen for the removal of the full notebook cells\n",
       "var notebookContainer = gd.closest('#notebook-container');\n",
       "if (notebookContainer) {{\n",
       "    x.observe(notebookContainer, {childList: true});\n",
       "}}\n",
       "\n",
       "// Listen for the clearing of the current output cell\n",
       "var outputEl = gd.closest('.output');\n",
       "if (outputEl) {{\n",
       "    x.observe(outputEl, {childList: true});\n",
       "}}\n",
       "\n",
       "                        })                };                });            </script>        </div>"
      ]
     },
     "metadata": {},
     "output_type": "display_data"
    }
   ],
   "source": [
    "fig = go.Figure(data=go.Scatter(\n",
    "        x=regression_results_for_plot[\"phenotype/gene\"],\n",
    "        y=regression_results_for_plot[\"mean\"],\n",
    "        mode='markers',\n",
    "        error_y=dict(\n",
    "            type='data',\n",
    "            array=regression_results_for_plot[\"ci\"],\n",
    "            visible=True)\n",
    "    ), layout=dict(\n",
    "        title=\"Linear regression on traits, single feature, 95% CI\",\n",
    "        yaxis_title=\"R2\",\n",
    "        yaxis_range=[-0.2,1]))\n",
    "fig.show()"
   ]
  },
  {
   "cell_type": "code",
   "execution_count": 187,
   "id": "3fb5fa6c-38f3-403d-a285-9f8898d2ba6b",
   "metadata": {},
   "outputs": [
    {
     "data": {
      "text/html": [
       "<div>\n",
       "<style scoped>\n",
       "    .dataframe tbody tr th:only-of-type {\n",
       "        vertical-align: middle;\n",
       "    }\n",
       "\n",
       "    .dataframe tbody tr th {\n",
       "        vertical-align: top;\n",
       "    }\n",
       "\n",
       "    .dataframe thead th {\n",
       "        text-align: right;\n",
       "    }\n",
       "</style>\n",
       "<table border=\"1\" class=\"dataframe\">\n",
       "  <thead>\n",
       "    <tr style=\"text-align: right;\">\n",
       "      <th></th>\n",
       "      <th>feature</th>\n",
       "      <th>phenotype/gene</th>\n",
       "    </tr>\n",
       "  </thead>\n",
       "  <tbody>\n",
       "    <tr>\n",
       "      <th>0</th>\n",
       "      <td>MetaRNN_rankscore</td>\n",
       "      <td>300</td>\n",
       "    </tr>\n",
       "    <tr>\n",
       "      <th>1</th>\n",
       "      <td>Eigen-phred_coding</td>\n",
       "      <td>284</td>\n",
       "    </tr>\n",
       "    <tr>\n",
       "      <th>2</th>\n",
       "      <td>VEST4_rankscore</td>\n",
       "      <td>267</td>\n",
       "    </tr>\n",
       "    <tr>\n",
       "      <th>3</th>\n",
       "      <td>REVEL_score</td>\n",
       "      <td>266</td>\n",
       "    </tr>\n",
       "    <tr>\n",
       "      <th>4</th>\n",
       "      <td>ClinPred_rankscore</td>\n",
       "      <td>263</td>\n",
       "    </tr>\n",
       "    <tr>\n",
       "      <th>5</th>\n",
       "      <td>pph2_prob_y</td>\n",
       "      <td>259</td>\n",
       "    </tr>\n",
       "    <tr>\n",
       "      <th>6</th>\n",
       "      <td>BayesDel_addAF_score</td>\n",
       "      <td>258</td>\n",
       "    </tr>\n",
       "    <tr>\n",
       "      <th>7</th>\n",
       "      <td>pph2_FDR_y</td>\n",
       "      <td>258</td>\n",
       "    </tr>\n",
       "    <tr>\n",
       "      <th>8</th>\n",
       "      <td>REVEL_rankscore</td>\n",
       "      <td>258</td>\n",
       "    </tr>\n",
       "    <tr>\n",
       "      <th>9</th>\n",
       "      <td>Eigen-PC-phred_coding</td>\n",
       "      <td>257</td>\n",
       "    </tr>\n",
       "  </tbody>\n",
       "</table>\n",
       "</div>"
      ],
      "text/plain": [
       "                 feature  phenotype/gene\n",
       "0      MetaRNN_rankscore             300\n",
       "1     Eigen-phred_coding             284\n",
       "2        VEST4_rankscore             267\n",
       "3            REVEL_score             266\n",
       "4     ClinPred_rankscore             263\n",
       "5            pph2_prob_y             259\n",
       "6   BayesDel_addAF_score             258\n",
       "7             pph2_FDR_y             258\n",
       "8        REVEL_rankscore             258\n",
       "9  Eigen-PC-phred_coding             257"
      ]
     },
     "execution_count": 187,
     "metadata": {},
     "output_type": "execute_result"
    }
   ],
   "source": [
    "# most common features appear to be the most versatile trait predictors\n",
    "regression_results_df.groupby(\"feature\").count().sort_values(\"phenotype/gene\", ascending=False)[\"phenotype/gene\"].reset_index().head(10)"
   ]
  },
  {
   "cell_type": "code",
   "execution_count": 275,
   "id": "f1ffcd08-d5c9-442a-be93-17148b57122c",
   "metadata": {},
   "outputs": [],
   "source": [
    "# generate a single dataframe with these phenotype/gene pairs\n",
    "\n",
    "all_vars_phenotypes_df = None\n",
    "for phenotype in regression_results_df.phenotype.unique():\n",
    "    vars_df = pd.read_pickle(all_adjusted_phenotypes[all_adjusted_phenotypes.phenotype == phenotype].var_phenotype_path.iloc[0])\n",
    "    vars_df = vars_df[vars_df.gene.isin(regression_results_df[regression_results_df.phenotype == phenotype].gene.unique())]\n",
    "    vars_df[\"phenotype\"] = phenotype\n",
    "    phenotype_continuous = all_adjusted_phenotypes[all_adjusted_phenotypes.phenotype == phenotype].type.iloc[0] == \"continuous\"\n",
    "    if phenotype_continuous:\n",
    "        vars_df = vars_df.drop(columns=[\"mean\", \"std\", \"median/phenotype_std\", \"median/gene_medians_std\"]).rename(columns={\"median\": \"predictand\"})\n",
    "    else:\n",
    "        vars_df = vars_df.drop(columns=[\"median\", \"std\", \"median/phenotype_std\", \"median/gene_medians_std\"]).rename(columns={\"mean\": \"predictand\"})\n",
    "    vars_df[\"phenotype_continuous\"] = phenotype_continuous\n",
    "    if all_vars_phenotypes_df is None:\n",
    "        all_vars_phenotypes_df = vars_df\n",
    "    else:\n",
    "        all_vars_phenotypes_df = pd.concat((all_vars_phenotypes_df, vars_df), axis=0)\n",
    "variant_features_all = pd.read_pickle(constants.variant_features_all)\n",
    "all_vars_phenotypes_df = all_vars_phenotypes_df.merge(variant_features_all[[\"var_id\"] + constants.all_cat_cols \\\n",
    "                                                      + constants.all_cont_cols + list(map(lambda x: x + \"_na\", constants.all_cont_cols))],\n",
    "                                                      on=\"var_id\", how=\"left\")\n",
    "all_vars_phenotypes_df.to_pickle(global_constants.top_regression_vars_phenotypes_path)"
   ]
  },
  {
   "cell_type": "markdown",
   "id": "71cee606-8237-4d27-97f3-17984e83b77b",
   "metadata": {},
   "source": [
    "## Execute multi feature regression before proceeding"
   ]
  },
  {
   "cell_type": "code",
   "execution_count": null,
   "id": "3b414669-7c3b-42db-8f97-818c7415746d",
   "metadata": {},
   "outputs": [],
   "source": [
    "!python execute_multi_feature_regression.py"
   ]
  },
  {
   "cell_type": "code",
   "execution_count": 48,
   "id": "d766ba6f-c166-49c8-9449-c222eb5833e1",
   "metadata": {},
   "outputs": [],
   "source": [
    "multi_feature_regression_results_df = pd.read_pickle(\"regression_multi_feature.pkl\")\n",
    "\n",
    "multi_feature_regression_results_df = add_ci_filter_mean(multi_feature_regression_results_df)\n",
    "\n",
    "multi_feature_regression_results_for_plot = pick_top_phenotype_gene_pairs(multi_feature_regression_results_df)"
   ]
  },
  {
   "cell_type": "code",
   "execution_count": 51,
   "id": "d07b4610-1fef-4b14-b2c6-3df47caf3a56",
   "metadata": {},
   "outputs": [
    {
     "data": {
      "application/vnd.plotly.v1+json": {
       "config": {
        "plotlyServerURL": "https://plot.ly"
       },
       "data": [
        {
         "error_y": {
          "array": [
           0.3856168599431258,
           0.34331277576736685,
           0.25504929210527183,
           0.2546361348072856,
           0.1792889950530755,
           0.16947010296659296,
           0.14850346138567408,
           0.1294528023526039,
           0.10991478381715561,
           0.061937518146996884
          ],
          "type": "data",
          "visible": true
         },
         "mode": "markers",
         "type": "scatter",
         "x": [
          "Mean platelet (thrombocyte) volume/GP1BB",
          "Albumin/FCGRT",
          "Mean platelet (thrombocyte) volume/GFI1B",
          "Total protein/FCGRT",
          "LDL direct/LDLR",
          "Apolipoprotein B/LDLR",
          "Cholesterol/LDLR",
          "Platelet crit/JAK2",
          "Platelet count/JAK2",
          "Mean reticulocyte volume/CAD"
         ],
         "y": [
          0.40710907571987187,
          0.3743097289090116,
          0.3024251212215504,
          0.245483647466991,
          0.21976422699297893,
          0.21466042878260147,
          0.20248872217402666,
          0.1122290315765811,
          0.09399898383292829,
          0.05186411567630658
         ]
        }
       ],
       "layout": {
        "autosize": true,
        "template": {
         "data": {
          "bar": [
           {
            "error_x": {
             "color": "#2a3f5f"
            },
            "error_y": {
             "color": "#2a3f5f"
            },
            "marker": {
             "line": {
              "color": "#E5ECF6",
              "width": 0.5
             },
             "pattern": {
              "fillmode": "overlay",
              "size": 10,
              "solidity": 0.2
             }
            },
            "type": "bar"
           }
          ],
          "barpolar": [
           {
            "marker": {
             "line": {
              "color": "#E5ECF6",
              "width": 0.5
             },
             "pattern": {
              "fillmode": "overlay",
              "size": 10,
              "solidity": 0.2
             }
            },
            "type": "barpolar"
           }
          ],
          "carpet": [
           {
            "aaxis": {
             "endlinecolor": "#2a3f5f",
             "gridcolor": "white",
             "linecolor": "white",
             "minorgridcolor": "white",
             "startlinecolor": "#2a3f5f"
            },
            "baxis": {
             "endlinecolor": "#2a3f5f",
             "gridcolor": "white",
             "linecolor": "white",
             "minorgridcolor": "white",
             "startlinecolor": "#2a3f5f"
            },
            "type": "carpet"
           }
          ],
          "choropleth": [
           {
            "colorbar": {
             "outlinewidth": 0,
             "ticks": ""
            },
            "type": "choropleth"
           }
          ],
          "contour": [
           {
            "colorbar": {
             "outlinewidth": 0,
             "ticks": ""
            },
            "colorscale": [
             [
              0,
              "#0d0887"
             ],
             [
              0.1111111111111111,
              "#46039f"
             ],
             [
              0.2222222222222222,
              "#7201a8"
             ],
             [
              0.3333333333333333,
              "#9c179e"
             ],
             [
              0.4444444444444444,
              "#bd3786"
             ],
             [
              0.5555555555555556,
              "#d8576b"
             ],
             [
              0.6666666666666666,
              "#ed7953"
             ],
             [
              0.7777777777777778,
              "#fb9f3a"
             ],
             [
              0.8888888888888888,
              "#fdca26"
             ],
             [
              1,
              "#f0f921"
             ]
            ],
            "type": "contour"
           }
          ],
          "contourcarpet": [
           {
            "colorbar": {
             "outlinewidth": 0,
             "ticks": ""
            },
            "type": "contourcarpet"
           }
          ],
          "heatmap": [
           {
            "colorbar": {
             "outlinewidth": 0,
             "ticks": ""
            },
            "colorscale": [
             [
              0,
              "#0d0887"
             ],
             [
              0.1111111111111111,
              "#46039f"
             ],
             [
              0.2222222222222222,
              "#7201a8"
             ],
             [
              0.3333333333333333,
              "#9c179e"
             ],
             [
              0.4444444444444444,
              "#bd3786"
             ],
             [
              0.5555555555555556,
              "#d8576b"
             ],
             [
              0.6666666666666666,
              "#ed7953"
             ],
             [
              0.7777777777777778,
              "#fb9f3a"
             ],
             [
              0.8888888888888888,
              "#fdca26"
             ],
             [
              1,
              "#f0f921"
             ]
            ],
            "type": "heatmap"
           }
          ],
          "heatmapgl": [
           {
            "colorbar": {
             "outlinewidth": 0,
             "ticks": ""
            },
            "colorscale": [
             [
              0,
              "#0d0887"
             ],
             [
              0.1111111111111111,
              "#46039f"
             ],
             [
              0.2222222222222222,
              "#7201a8"
             ],
             [
              0.3333333333333333,
              "#9c179e"
             ],
             [
              0.4444444444444444,
              "#bd3786"
             ],
             [
              0.5555555555555556,
              "#d8576b"
             ],
             [
              0.6666666666666666,
              "#ed7953"
             ],
             [
              0.7777777777777778,
              "#fb9f3a"
             ],
             [
              0.8888888888888888,
              "#fdca26"
             ],
             [
              1,
              "#f0f921"
             ]
            ],
            "type": "heatmapgl"
           }
          ],
          "histogram": [
           {
            "marker": {
             "pattern": {
              "fillmode": "overlay",
              "size": 10,
              "solidity": 0.2
             }
            },
            "type": "histogram"
           }
          ],
          "histogram2d": [
           {
            "colorbar": {
             "outlinewidth": 0,
             "ticks": ""
            },
            "colorscale": [
             [
              0,
              "#0d0887"
             ],
             [
              0.1111111111111111,
              "#46039f"
             ],
             [
              0.2222222222222222,
              "#7201a8"
             ],
             [
              0.3333333333333333,
              "#9c179e"
             ],
             [
              0.4444444444444444,
              "#bd3786"
             ],
             [
              0.5555555555555556,
              "#d8576b"
             ],
             [
              0.6666666666666666,
              "#ed7953"
             ],
             [
              0.7777777777777778,
              "#fb9f3a"
             ],
             [
              0.8888888888888888,
              "#fdca26"
             ],
             [
              1,
              "#f0f921"
             ]
            ],
            "type": "histogram2d"
           }
          ],
          "histogram2dcontour": [
           {
            "colorbar": {
             "outlinewidth": 0,
             "ticks": ""
            },
            "colorscale": [
             [
              0,
              "#0d0887"
             ],
             [
              0.1111111111111111,
              "#46039f"
             ],
             [
              0.2222222222222222,
              "#7201a8"
             ],
             [
              0.3333333333333333,
              "#9c179e"
             ],
             [
              0.4444444444444444,
              "#bd3786"
             ],
             [
              0.5555555555555556,
              "#d8576b"
             ],
             [
              0.6666666666666666,
              "#ed7953"
             ],
             [
              0.7777777777777778,
              "#fb9f3a"
             ],
             [
              0.8888888888888888,
              "#fdca26"
             ],
             [
              1,
              "#f0f921"
             ]
            ],
            "type": "histogram2dcontour"
           }
          ],
          "mesh3d": [
           {
            "colorbar": {
             "outlinewidth": 0,
             "ticks": ""
            },
            "type": "mesh3d"
           }
          ],
          "parcoords": [
           {
            "line": {
             "colorbar": {
              "outlinewidth": 0,
              "ticks": ""
             }
            },
            "type": "parcoords"
           }
          ],
          "pie": [
           {
            "automargin": true,
            "type": "pie"
           }
          ],
          "scatter": [
           {
            "fillpattern": {
             "fillmode": "overlay",
             "size": 10,
             "solidity": 0.2
            },
            "type": "scatter"
           }
          ],
          "scatter3d": [
           {
            "line": {
             "colorbar": {
              "outlinewidth": 0,
              "ticks": ""
             }
            },
            "marker": {
             "colorbar": {
              "outlinewidth": 0,
              "ticks": ""
             }
            },
            "type": "scatter3d"
           }
          ],
          "scattercarpet": [
           {
            "marker": {
             "colorbar": {
              "outlinewidth": 0,
              "ticks": ""
             }
            },
            "type": "scattercarpet"
           }
          ],
          "scattergeo": [
           {
            "marker": {
             "colorbar": {
              "outlinewidth": 0,
              "ticks": ""
             }
            },
            "type": "scattergeo"
           }
          ],
          "scattergl": [
           {
            "marker": {
             "colorbar": {
              "outlinewidth": 0,
              "ticks": ""
             }
            },
            "type": "scattergl"
           }
          ],
          "scattermapbox": [
           {
            "marker": {
             "colorbar": {
              "outlinewidth": 0,
              "ticks": ""
             }
            },
            "type": "scattermapbox"
           }
          ],
          "scatterpolar": [
           {
            "marker": {
             "colorbar": {
              "outlinewidth": 0,
              "ticks": ""
             }
            },
            "type": "scatterpolar"
           }
          ],
          "scatterpolargl": [
           {
            "marker": {
             "colorbar": {
              "outlinewidth": 0,
              "ticks": ""
             }
            },
            "type": "scatterpolargl"
           }
          ],
          "scatterternary": [
           {
            "marker": {
             "colorbar": {
              "outlinewidth": 0,
              "ticks": ""
             }
            },
            "type": "scatterternary"
           }
          ],
          "surface": [
           {
            "colorbar": {
             "outlinewidth": 0,
             "ticks": ""
            },
            "colorscale": [
             [
              0,
              "#0d0887"
             ],
             [
              0.1111111111111111,
              "#46039f"
             ],
             [
              0.2222222222222222,
              "#7201a8"
             ],
             [
              0.3333333333333333,
              "#9c179e"
             ],
             [
              0.4444444444444444,
              "#bd3786"
             ],
             [
              0.5555555555555556,
              "#d8576b"
             ],
             [
              0.6666666666666666,
              "#ed7953"
             ],
             [
              0.7777777777777778,
              "#fb9f3a"
             ],
             [
              0.8888888888888888,
              "#fdca26"
             ],
             [
              1,
              "#f0f921"
             ]
            ],
            "type": "surface"
           }
          ],
          "table": [
           {
            "cells": {
             "fill": {
              "color": "#EBF0F8"
             },
             "line": {
              "color": "white"
             }
            },
            "header": {
             "fill": {
              "color": "#C8D4E3"
             },
             "line": {
              "color": "white"
             }
            },
            "type": "table"
           }
          ]
         },
         "layout": {
          "annotationdefaults": {
           "arrowcolor": "#2a3f5f",
           "arrowhead": 0,
           "arrowwidth": 1
          },
          "autotypenumbers": "strict",
          "coloraxis": {
           "colorbar": {
            "outlinewidth": 0,
            "ticks": ""
           }
          },
          "colorscale": {
           "diverging": [
            [
             0,
             "#8e0152"
            ],
            [
             0.1,
             "#c51b7d"
            ],
            [
             0.2,
             "#de77ae"
            ],
            [
             0.3,
             "#f1b6da"
            ],
            [
             0.4,
             "#fde0ef"
            ],
            [
             0.5,
             "#f7f7f7"
            ],
            [
             0.6,
             "#e6f5d0"
            ],
            [
             0.7,
             "#b8e186"
            ],
            [
             0.8,
             "#7fbc41"
            ],
            [
             0.9,
             "#4d9221"
            ],
            [
             1,
             "#276419"
            ]
           ],
           "sequential": [
            [
             0,
             "#0d0887"
            ],
            [
             0.1111111111111111,
             "#46039f"
            ],
            [
             0.2222222222222222,
             "#7201a8"
            ],
            [
             0.3333333333333333,
             "#9c179e"
            ],
            [
             0.4444444444444444,
             "#bd3786"
            ],
            [
             0.5555555555555556,
             "#d8576b"
            ],
            [
             0.6666666666666666,
             "#ed7953"
            ],
            [
             0.7777777777777778,
             "#fb9f3a"
            ],
            [
             0.8888888888888888,
             "#fdca26"
            ],
            [
             1,
             "#f0f921"
            ]
           ],
           "sequentialminus": [
            [
             0,
             "#0d0887"
            ],
            [
             0.1111111111111111,
             "#46039f"
            ],
            [
             0.2222222222222222,
             "#7201a8"
            ],
            [
             0.3333333333333333,
             "#9c179e"
            ],
            [
             0.4444444444444444,
             "#bd3786"
            ],
            [
             0.5555555555555556,
             "#d8576b"
            ],
            [
             0.6666666666666666,
             "#ed7953"
            ],
            [
             0.7777777777777778,
             "#fb9f3a"
            ],
            [
             0.8888888888888888,
             "#fdca26"
            ],
            [
             1,
             "#f0f921"
            ]
           ]
          },
          "colorway": [
           "#636efa",
           "#EF553B",
           "#00cc96",
           "#ab63fa",
           "#FFA15A",
           "#19d3f3",
           "#FF6692",
           "#B6E880",
           "#FF97FF",
           "#FECB52"
          ],
          "font": {
           "color": "#2a3f5f"
          },
          "geo": {
           "bgcolor": "white",
           "lakecolor": "white",
           "landcolor": "#E5ECF6",
           "showlakes": true,
           "showland": true,
           "subunitcolor": "white"
          },
          "hoverlabel": {
           "align": "left"
          },
          "hovermode": "closest",
          "mapbox": {
           "style": "light"
          },
          "paper_bgcolor": "white",
          "plot_bgcolor": "#E5ECF6",
          "polar": {
           "angularaxis": {
            "gridcolor": "white",
            "linecolor": "white",
            "ticks": ""
           },
           "bgcolor": "#E5ECF6",
           "radialaxis": {
            "gridcolor": "white",
            "linecolor": "white",
            "ticks": ""
           }
          },
          "scene": {
           "xaxis": {
            "backgroundcolor": "#E5ECF6",
            "gridcolor": "white",
            "gridwidth": 2,
            "linecolor": "white",
            "showbackground": true,
            "ticks": "",
            "zerolinecolor": "white"
           },
           "yaxis": {
            "backgroundcolor": "#E5ECF6",
            "gridcolor": "white",
            "gridwidth": 2,
            "linecolor": "white",
            "showbackground": true,
            "ticks": "",
            "zerolinecolor": "white"
           },
           "zaxis": {
            "backgroundcolor": "#E5ECF6",
            "gridcolor": "white",
            "gridwidth": 2,
            "linecolor": "white",
            "showbackground": true,
            "ticks": "",
            "zerolinecolor": "white"
           }
          },
          "shapedefaults": {
           "line": {
            "color": "#2a3f5f"
           }
          },
          "ternary": {
           "aaxis": {
            "gridcolor": "white",
            "linecolor": "white",
            "ticks": ""
           },
           "baxis": {
            "gridcolor": "white",
            "linecolor": "white",
            "ticks": ""
           },
           "bgcolor": "#E5ECF6",
           "caxis": {
            "gridcolor": "white",
            "linecolor": "white",
            "ticks": ""
           }
          },
          "title": {
           "x": 0.05
          },
          "xaxis": {
           "automargin": true,
           "gridcolor": "white",
           "linecolor": "white",
           "ticks": "",
           "title": {
            "standoff": 15
           },
           "zerolinecolor": "white",
           "zerolinewidth": 2
          },
          "yaxis": {
           "automargin": true,
           "gridcolor": "white",
           "linecolor": "white",
           "ticks": "",
           "title": {
            "standoff": 15
           },
           "zerolinecolor": "white",
           "zerolinewidth": 2
          }
         }
        },
        "title": {
         "text": "Linear regression on traits, multiple features, 95% CI"
        },
        "xaxis": {
         "autorange": true,
         "range": [
          -0.5815926892950393,
          9.58159268929504
         ],
         "type": "category"
        },
        "yaxis": {
         "range": [
          -0.1,
          1
         ],
         "title": {
          "text": "R2"
         },
         "type": "linear"
        }
       }
      },
      "image/png": "[encoded data removed]",
      "text/html": [
       "<div>                            <div id=\"d637b497-de4b-4407-9c79-28f0e04dd9e1\" class=\"plotly-graph-div\" style=\"height:525px; width:100%;\"></div>            <script type=\"text/javascript\">                require([\"plotly\"], function(Plotly) {                    window.PLOTLYENV=window.PLOTLYENV || {};                                    if (document.getElementById(\"d637b497-de4b-4407-9c79-28f0e04dd9e1\")) {                    Plotly.newPlot(                        \"d637b497-de4b-4407-9c79-28f0e04dd9e1\",                        [{\"error_y\":{\"array\":[0.3856168599431258,0.34331277576736685,0.25504929210527183,0.2546361348072856,0.1792889950530755,0.16947010296659296,0.14850346138567408,0.1294528023526039,0.10991478381715561,0.061937518146996884],\"type\":\"data\",\"visible\":true},\"mode\":\"markers\",\"x\":[\"Mean platelet (thrombocyte) volume/GP1BB\",\"Albumin/FCGRT\",\"Mean platelet (thrombocyte) volume/GFI1B\",\"Total protein/FCGRT\",\"LDL direct/LDLR\",\"Apolipoprotein B/LDLR\",\"Cholesterol/LDLR\",\"Platelet crit/JAK2\",\"Platelet count/JAK2\",\"Mean reticulocyte volume/CAD\"],\"y\":[0.40710907571987187,0.3743097289090116,0.3024251212215504,0.245483647466991,0.21976422699297893,0.21466042878260147,0.20248872217402666,0.1122290315765811,0.09399898383292829,0.05186411567630658],\"type\":\"scatter\"}],                        {\"title\":{\"text\":\"Linear regression on traits, multiple features, 95% CI\"},\"yaxis\":{\"title\":{\"text\":\"R2\"},\"range\":[-0.1,1]},\"template\":{\"data\":{\"histogram2dcontour\":[{\"type\":\"histogram2dcontour\",\"colorbar\":{\"outlinewidth\":0,\"ticks\":\"\"},\"colorscale\":[[0.0,\"#0d0887\"],[0.1111111111111111,\"#46039f\"],[0.2222222222222222,\"#7201a8\"],[0.3333333333333333,\"#9c179e\"],[0.4444444444444444,\"#bd3786\"],[0.5555555555555556,\"#d8576b\"],[0.6666666666666666,\"#ed7953\"],[0.7777777777777778,\"#fb9f3a\"],[0.8888888888888888,\"#fdca26\"],[1.0,\"#f0f921\"]]}],\"choropleth\":[{\"type\":\"choropleth\",\"colorbar\":{\"outlinewidth\":0,\"ticks\":\"\"}}],\"histogram2d\":[{\"type\":\"histogram2d\",\"colorbar\":{\"outlinewidth\":0,\"ticks\":\"\"},\"colorscale\":[[0.0,\"#0d0887\"],[0.1111111111111111,\"#46039f\"],[0.2222222222222222,\"#7201a8\"],[0.3333333333333333,\"#9c179e\"],[0.4444444444444444,\"#bd3786\"],[0.5555555555555556,\"#d8576b\"],[0.6666666666666666,\"#ed7953\"],[0.7777777777777778,\"#fb9f3a\"],[0.8888888888888888,\"#fdca26\"],[1.0,\"#f0f921\"]]}],\"heatmap\":[{\"type\":\"heatmap\",\"colorbar\":{\"outlinewidth\":0,\"ticks\":\"\"},\"colorscale\":[[0.0,\"#0d0887\"],[0.1111111111111111,\"#46039f\"],[0.2222222222222222,\"#7201a8\"],[0.3333333333333333,\"#9c179e\"],[0.4444444444444444,\"#bd3786\"],[0.5555555555555556,\"#d8576b\"],[0.6666666666666666,\"#ed7953\"],[0.7777777777777778,\"#fb9f3a\"],[0.8888888888888888,\"#fdca26\"],[1.0,\"#f0f921\"]]}],\"heatmapgl\":[{\"type\":\"heatmapgl\",\"colorbar\":{\"outlinewidth\":0,\"ticks\":\"\"},\"colorscale\":[[0.0,\"#0d0887\"],[0.1111111111111111,\"#46039f\"],[0.2222222222222222,\"#7201a8\"],[0.3333333333333333,\"#9c179e\"],[0.4444444444444444,\"#bd3786\"],[0.5555555555555556,\"#d8576b\"],[0.6666666666666666,\"#ed7953\"],[0.7777777777777778,\"#fb9f3a\"],[0.8888888888888888,\"#fdca26\"],[1.0,\"#f0f921\"]]}],\"contourcarpet\":[{\"type\":\"contourcarpet\",\"colorbar\":{\"outlinewidth\":0,\"ticks\":\"\"}}],\"contour\":[{\"type\":\"contour\",\"colorbar\":{\"outlinewidth\":0,\"ticks\":\"\"},\"colorscale\":[[0.0,\"#0d0887\"],[0.1111111111111111,\"#46039f\"],[0.2222222222222222,\"#7201a8\"],[0.3333333333333333,\"#9c179e\"],[0.4444444444444444,\"#bd3786\"],[0.5555555555555556,\"#d8576b\"],[0.6666666666666666,\"#ed7953\"],[0.7777777777777778,\"#fb9f3a\"],[0.8888888888888888,\"#fdca26\"],[1.0,\"#f0f921\"]]}],\"surface\":[{\"type\":\"surface\",\"colorbar\":{\"outlinewidth\":0,\"ticks\":\"\"},\"colorscale\":[[0.0,\"#0d0887\"],[0.1111111111111111,\"#46039f\"],[0.2222222222222222,\"#7201a8\"],[0.3333333333333333,\"#9c179e\"],[0.4444444444444444,\"#bd3786\"],[0.5555555555555556,\"#d8576b\"],[0.6666666666666666,\"#ed7953\"],[0.7777777777777778,\"#fb9f3a\"],[0.8888888888888888,\"#fdca26\"],[1.0,\"#f0f921\"]]}],\"mesh3d\":[{\"type\":\"mesh3d\",\"colorbar\":{\"outlinewidth\":0,\"ticks\":\"\"}}],\"scatter\":[{\"fillpattern\":{\"fillmode\":\"overlay\",\"size\":10,\"solidity\":0.2},\"type\":\"scatter\"}],\"parcoords\":[{\"type\":\"parcoords\",\"line\":{\"colorbar\":{\"outlinewidth\":0,\"ticks\":\"\"}}}],\"scatterpolargl\":[{\"type\":\"scatterpolargl\",\"marker\":{\"colorbar\":{\"outlinewidth\":0,\"ticks\":\"\"}}}],\"bar\":[{\"error_x\":{\"color\":\"#2a3f5f\"},\"error_y\":{\"color\":\"#2a3f5f\"},\"marker\":{\"line\":{\"color\":\"#E5ECF6\",\"width\":0.5},\"pattern\":{\"fillmode\":\"overlay\",\"size\":10,\"solidity\":0.2}},\"type\":\"bar\"}],\"scattergeo\":[{\"type\":\"scattergeo\",\"marker\":{\"colorbar\":{\"outlinewidth\":0,\"ticks\":\"\"}}}],\"scatterpolar\":[{\"type\":\"scatterpolar\",\"marker\":{\"colorbar\":{\"outlinewidth\":0,\"ticks\":\"\"}}}],\"histogram\":[{\"marker\":{\"pattern\":{\"fillmode\":\"overlay\",\"size\":10,\"solidity\":0.2}},\"type\":\"histogram\"}],\"scattergl\":[{\"type\":\"scattergl\",\"marker\":{\"colorbar\":{\"outlinewidth\":0,\"ticks\":\"\"}}}],\"scatter3d\":[{\"type\":\"scatter3d\",\"line\":{\"colorbar\":{\"outlinewidth\":0,\"ticks\":\"\"}},\"marker\":{\"colorbar\":{\"outlinewidth\":0,\"ticks\":\"\"}}}],\"scattermapbox\":[{\"type\":\"scattermapbox\",\"marker\":{\"colorbar\":{\"outlinewidth\":0,\"ticks\":\"\"}}}],\"scatterternary\":[{\"type\":\"scatterternary\",\"marker\":{\"colorbar\":{\"outlinewidth\":0,\"ticks\":\"\"}}}],\"scattercarpet\":[{\"type\":\"scattercarpet\",\"marker\":{\"colorbar\":{\"outlinewidth\":0,\"ticks\":\"\"}}}],\"carpet\":[{\"aaxis\":{\"endlinecolor\":\"#2a3f5f\",\"gridcolor\":\"white\",\"linecolor\":\"white\",\"minorgridcolor\":\"white\",\"startlinecolor\":\"#2a3f5f\"},\"baxis\":{\"endlinecolor\":\"#2a3f5f\",\"gridcolor\":\"white\",\"linecolor\":\"white\",\"minorgridcolor\":\"white\",\"startlinecolor\":\"#2a3f5f\"},\"type\":\"carpet\"}],\"table\":[{\"cells\":{\"fill\":{\"color\":\"#EBF0F8\"},\"line\":{\"color\":\"white\"}},\"header\":{\"fill\":{\"color\":\"#C8D4E3\"},\"line\":{\"color\":\"white\"}},\"type\":\"table\"}],\"barpolar\":[{\"marker\":{\"line\":{\"color\":\"#E5ECF6\",\"width\":0.5},\"pattern\":{\"fillmode\":\"overlay\",\"size\":10,\"solidity\":0.2}},\"type\":\"barpolar\"}],\"pie\":[{\"automargin\":true,\"type\":\"pie\"}]},\"layout\":{\"autotypenumbers\":\"strict\",\"colorway\":[\"#636efa\",\"#EF553B\",\"#00cc96\",\"#ab63fa\",\"#FFA15A\",\"#19d3f3\",\"#FF6692\",\"#B6E880\",\"#FF97FF\",\"#FECB52\"],\"font\":{\"color\":\"#2a3f5f\"},\"hovermode\":\"closest\",\"hoverlabel\":{\"align\":\"left\"},\"paper_bgcolor\":\"white\",\"plot_bgcolor\":\"#E5ECF6\",\"polar\":{\"bgcolor\":\"#E5ECF6\",\"angularaxis\":{\"gridcolor\":\"white\",\"linecolor\":\"white\",\"ticks\":\"\"},\"radialaxis\":{\"gridcolor\":\"white\",\"linecolor\":\"white\",\"ticks\":\"\"}},\"ternary\":{\"bgcolor\":\"#E5ECF6\",\"aaxis\":{\"gridcolor\":\"white\",\"linecolor\":\"white\",\"ticks\":\"\"},\"baxis\":{\"gridcolor\":\"white\",\"linecolor\":\"white\",\"ticks\":\"\"},\"caxis\":{\"gridcolor\":\"white\",\"linecolor\":\"white\",\"ticks\":\"\"}},\"coloraxis\":{\"colorbar\":{\"outlinewidth\":0,\"ticks\":\"\"}},\"colorscale\":{\"sequential\":[[0.0,\"#0d0887\"],[0.1111111111111111,\"#46039f\"],[0.2222222222222222,\"#7201a8\"],[0.3333333333333333,\"#9c179e\"],[0.4444444444444444,\"#bd3786\"],[0.5555555555555556,\"#d8576b\"],[0.6666666666666666,\"#ed7953\"],[0.7777777777777778,\"#fb9f3a\"],[0.8888888888888888,\"#fdca26\"],[1.0,\"#f0f921\"]],\"sequentialminus\":[[0.0,\"#0d0887\"],[0.1111111111111111,\"#46039f\"],[0.2222222222222222,\"#7201a8\"],[0.3333333333333333,\"#9c179e\"],[0.4444444444444444,\"#bd3786\"],[0.5555555555555556,\"#d8576b\"],[0.6666666666666666,\"#ed7953\"],[0.7777777777777778,\"#fb9f3a\"],[0.8888888888888888,\"#fdca26\"],[1.0,\"#f0f921\"]],\"diverging\":[[0,\"#8e0152\"],[0.1,\"#c51b7d\"],[0.2,\"#de77ae\"],[0.3,\"#f1b6da\"],[0.4,\"#fde0ef\"],[0.5,\"#f7f7f7\"],[0.6,\"#e6f5d0\"],[0.7,\"#b8e186\"],[0.8,\"#7fbc41\"],[0.9,\"#4d9221\"],[1,\"#276419\"]]},\"xaxis\":{\"gridcolor\":\"white\",\"linecolor\":\"white\",\"ticks\":\"\",\"title\":{\"standoff\":15},\"zerolinecolor\":\"white\",\"automargin\":true,\"zerolinewidth\":2},\"yaxis\":{\"gridcolor\":\"white\",\"linecolor\":\"white\",\"ticks\":\"\",\"title\":{\"standoff\":15},\"zerolinecolor\":\"white\",\"automargin\":true,\"zerolinewidth\":2},\"scene\":{\"xaxis\":{\"backgroundcolor\":\"#E5ECF6\",\"gridcolor\":\"white\",\"linecolor\":\"white\",\"showbackground\":true,\"ticks\":\"\",\"zerolinecolor\":\"white\",\"gridwidth\":2},\"yaxis\":{\"backgroundcolor\":\"#E5ECF6\",\"gridcolor\":\"white\",\"linecolor\":\"white\",\"showbackground\":true,\"ticks\":\"\",\"zerolinecolor\":\"white\",\"gridwidth\":2},\"zaxis\":{\"backgroundcolor\":\"#E5ECF6\",\"gridcolor\":\"white\",\"linecolor\":\"white\",\"showbackground\":true,\"ticks\":\"\",\"zerolinecolor\":\"white\",\"gridwidth\":2}},\"shapedefaults\":{\"line\":{\"color\":\"#2a3f5f\"}},\"annotationdefaults\":{\"arrowcolor\":\"#2a3f5f\",\"arrowhead\":0,\"arrowwidth\":1},\"geo\":{\"bgcolor\":\"white\",\"landcolor\":\"#E5ECF6\",\"subunitcolor\":\"white\",\"showland\":true,\"showlakes\":true,\"lakecolor\":\"white\"},\"title\":{\"x\":0.05},\"mapbox\":{\"style\":\"light\"}}}},                        {\"responsive\": true}                    ).then(function(){\n",
       "                            \n",
       "var gd = document.getElementById('d637b497-de4b-4407-9c79-28f0e04dd9e1');\n",
       "var x = new MutationObserver(function (mutations, observer) {{\n",
       "        var display = window.getComputedStyle(gd).display;\n",
       "        if (!display || display === 'none') {{\n",
       "            console.log([gd, 'removed!']);\n",
       "            Plotly.purge(gd);\n",
       "            observer.disconnect();\n",
       "        }}\n",
       "}});\n",
       "\n",
       "// Listen for the removal of the full notebook cells\n",
       "var notebookContainer = gd.closest('#notebook-container');\n",
       "if (notebookContainer) {{\n",
       "    x.observe(notebookContainer, {childList: true});\n",
       "}}\n",
       "\n",
       "// Listen for the clearing of the current output cell\n",
       "var outputEl = gd.closest('.output');\n",
       "if (outputEl) {{\n",
       "    x.observe(outputEl, {childList: true});\n",
       "}}\n",
       "\n",
       "                        })                };                });            </script>        </div>"
      ]
     },
     "metadata": {},
     "output_type": "display_data"
    }
   ],
   "source": [
    "fig = go.Figure(data=go.Scatter(\n",
    "        x=multi_feature_regression_results_for_plot[\"phenotype/gene\"],\n",
    "        y=multi_feature_regression_results_for_plot[\"mean\"],\n",
    "        mode='markers',\n",
    "        error_y=dict(\n",
    "            type='data',\n",
    "            array=multi_feature_regression_results_for_plot[\"ci\"],\n",
    "            visible=True)\n",
    "    ), layout=dict(\n",
    "        title=\"Linear regression on traits, multiple features, 95% CI\",\n",
    "        yaxis_title=\"R2\",\n",
    "        yaxis_range=[-0.1,1]))\n",
    "fig.show()"
   ]
  },
  {
   "cell_type": "code",
   "execution_count": 53,
   "id": "7858e118-21f1-495a-add2-6f322c6e3a45",
   "metadata": {},
   "outputs": [],
   "source": [
    "regression_results_df_for_plot = regression_results_df.sort_values(\"mean_ci_difference\", ascending=False)\n",
    "regression_results_df_for_plot = regression_results_df_for_plot.drop_duplicates(\"phenotype/gene\")\n",
    "regression_results_df_for_plot = regression_results_df_for_plot.merge(multi_feature_regression_results_for_plot[[\"phenotype/gene\"]], how=\"right\")"
   ]
  },
  {
   "cell_type": "code",
   "execution_count": 188,
   "id": "77b08a62-2f66-44cd-8e69-584f9399a59d",
   "metadata": {},
   "outputs": [
    {
     "data": {
      "application/vnd.plotly.v1+json": {
       "config": {
        "plotlyServerURL": "https://plot.ly"
       },
       "data": [
        {
         "error_y": {
          "array": [
           0.3856168599431258,
           0.34331277576736685,
           0.25504929210527183,
           0.2546361348072856,
           0.1792889950530755,
           0.16947010296659296,
           0.14850346138567408,
           0.1294528023526039,
           0.10991478381715561,
           0.061937518146996884
          ],
          "type": "data",
          "visible": true
         },
         "mode": "markers",
         "name": "multi feature",
         "opacity": 0.5,
         "type": "scatter",
         "x": [
          "Mean platelet (thrombocyte) volume/GP1BB",
          "Albumin/FCGRT",
          "Mean platelet (thrombocyte) volume/GFI1B",
          "Total protein/FCGRT",
          "LDL direct/LDLR",
          "Apolipoprotein B/LDLR",
          "Cholesterol/LDLR",
          "Platelet crit/JAK2",
          "Platelet count/JAK2",
          "Mean reticulocyte volume/CAD"
         ],
         "y": [
          0.40710907571987187,
          0.3743097289090116,
          0.3024251212215504,
          0.245483647466991,
          0.21976422699297893,
          0.21466042878260147,
          0.20248872217402666,
          0.1122290315765811,
          0.09399898383292829,
          0.05186411567630658
         ]
        },
        {
         "error_y": {
          "array": [
           0.2819541935522912,
           0.2325675228746521,
           0.19287982643342805,
           0.23358746133500866,
           0.15225056960069117,
           0.1510382523409462,
           0.14359012567556187,
           0.0898531670303344,
           0.07959825045441574,
           0.06099836277535042
          ],
          "type": "data",
          "visible": true
         },
         "mode": "markers",
         "name": "single feature",
         "opacity": 0.5,
         "type": "scatter",
         "x": [
          "Mean platelet (thrombocyte) volume/GP1BB",
          "Albumin/FCGRT",
          "Mean platelet (thrombocyte) volume/GFI1B",
          "Total protein/FCGRT",
          "LDL direct/LDLR",
          "Apolipoprotein B/LDLR",
          "Cholesterol/LDLR",
          "Platelet crit/JAK2",
          "Platelet count/JAK2",
          "Mean reticulocyte volume/CAD"
         ],
         "y": [
          0.20297052532692983,
          0.08711060808326324,
          0.08561108921479375,
          0.11947569120191583,
          0.18314725297107284,
          0.17129343764948424,
          0.14807139706673086,
          0.05690520681939855,
          0.05277711091773893,
          0.03697873703825641
         ]
        }
       ],
       "layout": {
        "autosize": true,
        "template": {
         "data": {
          "bar": [
           {
            "error_x": {
             "color": "#2a3f5f"
            },
            "error_y": {
             "color": "#2a3f5f"
            },
            "marker": {
             "line": {
              "color": "#E5ECF6",
              "width": 0.5
             },
             "pattern": {
              "fillmode": "overlay",
              "size": 10,
              "solidity": 0.2
             }
            },
            "type": "bar"
           }
          ],
          "barpolar": [
           {
            "marker": {
             "line": {
              "color": "#E5ECF6",
              "width": 0.5
             },
             "pattern": {
              "fillmode": "overlay",
              "size": 10,
              "solidity": 0.2
             }
            },
            "type": "barpolar"
           }
          ],
          "carpet": [
           {
            "aaxis": {
             "endlinecolor": "#2a3f5f",
             "gridcolor": "white",
             "linecolor": "white",
             "minorgridcolor": "white",
             "startlinecolor": "#2a3f5f"
            },
            "baxis": {
             "endlinecolor": "#2a3f5f",
             "gridcolor": "white",
             "linecolor": "white",
             "minorgridcolor": "white",
             "startlinecolor": "#2a3f5f"
            },
            "type": "carpet"
           }
          ],
          "choropleth": [
           {
            "colorbar": {
             "outlinewidth": 0,
             "ticks": ""
            },
            "type": "choropleth"
           }
          ],
          "contour": [
           {
            "colorbar": {
             "outlinewidth": 0,
             "ticks": ""
            },
            "colorscale": [
             [
              0,
              "#0d0887"
             ],
             [
              0.1111111111111111,
              "#46039f"
             ],
             [
              0.2222222222222222,
              "#7201a8"
             ],
             [
              0.3333333333333333,
              "#9c179e"
             ],
             [
              0.4444444444444444,
              "#bd3786"
             ],
             [
              0.5555555555555556,
              "#d8576b"
             ],
             [
              0.6666666666666666,
              "#ed7953"
             ],
             [
              0.7777777777777778,
              "#fb9f3a"
             ],
             [
              0.8888888888888888,
              "#fdca26"
             ],
             [
              1,
              "#f0f921"
             ]
            ],
            "type": "contour"
           }
          ],
          "contourcarpet": [
           {
            "colorbar": {
             "outlinewidth": 0,
             "ticks": ""
            },
            "type": "contourcarpet"
           }
          ],
          "heatmap": [
           {
            "colorbar": {
             "outlinewidth": 0,
             "ticks": ""
            },
            "colorscale": [
             [
              0,
              "#0d0887"
             ],
             [
              0.1111111111111111,
              "#46039f"
             ],
             [
              0.2222222222222222,
              "#7201a8"
             ],
             [
              0.3333333333333333,
              "#9c179e"
             ],
             [
              0.4444444444444444,
              "#bd3786"
             ],
             [
              0.5555555555555556,
              "#d8576b"
             ],
             [
              0.6666666666666666,
              "#ed7953"
             ],
             [
              0.7777777777777778,
              "#fb9f3a"
             ],
             [
              0.8888888888888888,
              "#fdca26"
             ],
             [
              1,
              "#f0f921"
             ]
            ],
            "type": "heatmap"
           }
          ],
          "heatmapgl": [
           {
            "colorbar": {
             "outlinewidth": 0,
             "ticks": ""
            },
            "colorscale": [
             [
              0,
              "#0d0887"
             ],
             [
              0.1111111111111111,
              "#46039f"
             ],
             [
              0.2222222222222222,
              "#7201a8"
             ],
             [
              0.3333333333333333,
              "#9c179e"
             ],
             [
              0.4444444444444444,
              "#bd3786"
             ],
             [
              0.5555555555555556,
              "#d8576b"
             ],
             [
              0.6666666666666666,
              "#ed7953"
             ],
             [
              0.7777777777777778,
              "#fb9f3a"
             ],
             [
              0.8888888888888888,
              "#fdca26"
             ],
             [
              1,
              "#f0f921"
             ]
            ],
            "type": "heatmapgl"
           }
          ],
          "histogram": [
           {
            "marker": {
             "pattern": {
              "fillmode": "overlay",
              "size": 10,
              "solidity": 0.2
             }
            },
            "type": "histogram"
           }
          ],
          "histogram2d": [
           {
            "colorbar": {
             "outlinewidth": 0,
             "ticks": ""
            },
            "colorscale": [
             [
              0,
              "#0d0887"
             ],
             [
              0.1111111111111111,
              "#46039f"
             ],
             [
              0.2222222222222222,
              "#7201a8"
             ],
             [
              0.3333333333333333,
              "#9c179e"
             ],
             [
              0.4444444444444444,
              "#bd3786"
             ],
             [
              0.5555555555555556,
              "#d8576b"
             ],
             [
              0.6666666666666666,
              "#ed7953"
             ],
             [
              0.7777777777777778,
              "#fb9f3a"
             ],
             [
              0.8888888888888888,
              "#fdca26"
             ],
             [
              1,
              "#f0f921"
             ]
            ],
            "type": "histogram2d"
           }
          ],
          "histogram2dcontour": [
           {
            "colorbar": {
             "outlinewidth": 0,
             "ticks": ""
            },
            "colorscale": [
             [
              0,
              "#0d0887"
             ],
             [
              0.1111111111111111,
              "#46039f"
             ],
             [
              0.2222222222222222,
              "#7201a8"
             ],
             [
              0.3333333333333333,
              "#9c179e"
             ],
             [
              0.4444444444444444,
              "#bd3786"
             ],
             [
              0.5555555555555556,
              "#d8576b"
             ],
             [
              0.6666666666666666,
              "#ed7953"
             ],
             [
              0.7777777777777778,
              "#fb9f3a"
             ],
             [
              0.8888888888888888,
              "#fdca26"
             ],
             [
              1,
              "#f0f921"
             ]
            ],
            "type": "histogram2dcontour"
           }
          ],
          "mesh3d": [
           {
            "colorbar": {
             "outlinewidth": 0,
             "ticks": ""
            },
            "type": "mesh3d"
           }
          ],
          "parcoords": [
           {
            "line": {
             "colorbar": {
              "outlinewidth": 0,
              "ticks": ""
             }
            },
            "type": "parcoords"
           }
          ],
          "pie": [
           {
            "automargin": true,
            "type": "pie"
           }
          ],
          "scatter": [
           {
            "fillpattern": {
             "fillmode": "overlay",
             "size": 10,
             "solidity": 0.2
            },
            "type": "scatter"
           }
          ],
          "scatter3d": [
           {
            "line": {
             "colorbar": {
              "outlinewidth": 0,
              "ticks": ""
             }
            },
            "marker": {
             "colorbar": {
              "outlinewidth": 0,
              "ticks": ""
             }
            },
            "type": "scatter3d"
           }
          ],
          "scattercarpet": [
           {
            "marker": {
             "colorbar": {
              "outlinewidth": 0,
              "ticks": ""
             }
            },
            "type": "scattercarpet"
           }
          ],
          "scattergeo": [
           {
            "marker": {
             "colorbar": {
              "outlinewidth": 0,
              "ticks": ""
             }
            },
            "type": "scattergeo"
           }
          ],
          "scattergl": [
           {
            "marker": {
             "colorbar": {
              "outlinewidth": 0,
              "ticks": ""
             }
            },
            "type": "scattergl"
           }
          ],
          "scattermapbox": [
           {
            "marker": {
             "colorbar": {
              "outlinewidth": 0,
              "ticks": ""
             }
            },
            "type": "scattermapbox"
           }
          ],
          "scatterpolar": [
           {
            "marker": {
             "colorbar": {
              "outlinewidth": 0,
              "ticks": ""
             }
            },
            "type": "scatterpolar"
           }
          ],
          "scatterpolargl": [
           {
            "marker": {
             "colorbar": {
              "outlinewidth": 0,
              "ticks": ""
             }
            },
            "type": "scatterpolargl"
           }
          ],
          "scatterternary": [
           {
            "marker": {
             "colorbar": {
              "outlinewidth": 0,
              "ticks": ""
             }
            },
            "type": "scatterternary"
           }
          ],
          "surface": [
           {
            "colorbar": {
             "outlinewidth": 0,
             "ticks": ""
            },
            "colorscale": [
             [
              0,
              "#0d0887"
             ],
             [
              0.1111111111111111,
              "#46039f"
             ],
             [
              0.2222222222222222,
              "#7201a8"
             ],
             [
              0.3333333333333333,
              "#9c179e"
             ],
             [
              0.4444444444444444,
              "#bd3786"
             ],
             [
              0.5555555555555556,
              "#d8576b"
             ],
             [
              0.6666666666666666,
              "#ed7953"
             ],
             [
              0.7777777777777778,
              "#fb9f3a"
             ],
             [
              0.8888888888888888,
              "#fdca26"
             ],
             [
              1,
              "#f0f921"
             ]
            ],
            "type": "surface"
           }
          ],
          "table": [
           {
            "cells": {
             "fill": {
              "color": "#EBF0F8"
             },
             "line": {
              "color": "white"
             }
            },
            "header": {
             "fill": {
              "color": "#C8D4E3"
             },
             "line": {
              "color": "white"
             }
            },
            "type": "table"
           }
          ]
         },
         "layout": {
          "annotationdefaults": {
           "arrowcolor": "#2a3f5f",
           "arrowhead": 0,
           "arrowwidth": 1
          },
          "autotypenumbers": "strict",
          "coloraxis": {
           "colorbar": {
            "outlinewidth": 0,
            "ticks": ""
           }
          },
          "colorscale": {
           "diverging": [
            [
             0,
             "#8e0152"
            ],
            [
             0.1,
             "#c51b7d"
            ],
            [
             0.2,
             "#de77ae"
            ],
            [
             0.3,
             "#f1b6da"
            ],
            [
             0.4,
             "#fde0ef"
            ],
            [
             0.5,
             "#f7f7f7"
            ],
            [
             0.6,
             "#e6f5d0"
            ],
            [
             0.7,
             "#b8e186"
            ],
            [
             0.8,
             "#7fbc41"
            ],
            [
             0.9,
             "#4d9221"
            ],
            [
             1,
             "#276419"
            ]
           ],
           "sequential": [
            [
             0,
             "#0d0887"
            ],
            [
             0.1111111111111111,
             "#46039f"
            ],
            [
             0.2222222222222222,
             "#7201a8"
            ],
            [
             0.3333333333333333,
             "#9c179e"
            ],
            [
             0.4444444444444444,
             "#bd3786"
            ],
            [
             0.5555555555555556,
             "#d8576b"
            ],
            [
             0.6666666666666666,
             "#ed7953"
            ],
            [
             0.7777777777777778,
             "#fb9f3a"
            ],
            [
             0.8888888888888888,
             "#fdca26"
            ],
            [
             1,
             "#f0f921"
            ]
           ],
           "sequentialminus": [
            [
             0,
             "#0d0887"
            ],
            [
             0.1111111111111111,
             "#46039f"
            ],
            [
             0.2222222222222222,
             "#7201a8"
            ],
            [
             0.3333333333333333,
             "#9c179e"
            ],
            [
             0.4444444444444444,
             "#bd3786"
            ],
            [
             0.5555555555555556,
             "#d8576b"
            ],
            [
             0.6666666666666666,
             "#ed7953"
            ],
            [
             0.7777777777777778,
             "#fb9f3a"
            ],
            [
             0.8888888888888888,
             "#fdca26"
            ],
            [
             1,
             "#f0f921"
            ]
           ]
          },
          "colorway": [
           "#636efa",
           "#EF553B",
           "#00cc96",
           "#ab63fa",
           "#FFA15A",
           "#19d3f3",
           "#FF6692",
           "#B6E880",
           "#FF97FF",
           "#FECB52"
          ],
          "font": {
           "color": "#2a3f5f"
          },
          "geo": {
           "bgcolor": "white",
           "lakecolor": "white",
           "landcolor": "#E5ECF6",
           "showlakes": true,
           "showland": true,
           "subunitcolor": "white"
          },
          "hoverlabel": {
           "align": "left"
          },
          "hovermode": "closest",
          "mapbox": {
           "style": "light"
          },
          "paper_bgcolor": "white",
          "plot_bgcolor": "#E5ECF6",
          "polar": {
           "angularaxis": {
            "gridcolor": "white",
            "linecolor": "white",
            "ticks": ""
           },
           "bgcolor": "#E5ECF6",
           "radialaxis": {
            "gridcolor": "white",
            "linecolor": "white",
            "ticks": ""
           }
          },
          "scene": {
           "xaxis": {
            "backgroundcolor": "#E5ECF6",
            "gridcolor": "white",
            "gridwidth": 2,
            "linecolor": "white",
            "showbackground": true,
            "ticks": "",
            "zerolinecolor": "white"
           },
           "yaxis": {
            "backgroundcolor": "#E5ECF6",
            "gridcolor": "white",
            "gridwidth": 2,
            "linecolor": "white",
            "showbackground": true,
            "ticks": "",
            "zerolinecolor": "white"
           },
           "zaxis": {
            "backgroundcolor": "#E5ECF6",
            "gridcolor": "white",
            "gridwidth": 2,
            "linecolor": "white",
            "showbackground": true,
            "ticks": "",
            "zerolinecolor": "white"
           }
          },
          "shapedefaults": {
           "line": {
            "color": "#2a3f5f"
           }
          },
          "ternary": {
           "aaxis": {
            "gridcolor": "white",
            "linecolor": "white",
            "ticks": ""
           },
           "baxis": {
            "gridcolor": "white",
            "linecolor": "white",
            "ticks": ""
           },
           "bgcolor": "#E5ECF6",
           "caxis": {
            "gridcolor": "white",
            "linecolor": "white",
            "ticks": ""
           }
          },
          "title": {
           "x": 0.05
          },
          "xaxis": {
           "automargin": true,
           "gridcolor": "white",
           "linecolor": "white",
           "ticks": "",
           "title": {
            "standoff": 15
           },
           "zerolinecolor": "white",
           "zerolinewidth": 2
          },
          "yaxis": {
           "automargin": true,
           "gridcolor": "white",
           "linecolor": "white",
           "ticks": "",
           "title": {
            "standoff": 15
           },
           "zerolinecolor": "white",
           "zerolinewidth": 2
          }
         }
        },
        "title": {
         "text": "Linear regression on traits, multiple features, 95% CI"
        },
        "xaxis": {
         "autorange": true,
         "range": [
          -0.5822368421052632,
          9.582236842105264
         ],
         "type": "category"
        },
        "yaxis": {
         "range": [
          -0.2,
          1
         ],
         "title": {
          "text": "R2"
         },
         "type": "linear"
        }
       }
      },
      "image/png": "[encoded data removed]",
      "text/html": [
       "<div>                            <div id=\"22d316f8-5da5-403c-b2af-b394ae1309da\" class=\"plotly-graph-div\" style=\"height:525px; width:100%;\"></div>            <script type=\"text/javascript\">                require([\"plotly\"], function(Plotly) {                    window.PLOTLYENV=window.PLOTLYENV || {};                                    if (document.getElementById(\"22d316f8-5da5-403c-b2af-b394ae1309da\")) {                    Plotly.newPlot(                        \"22d316f8-5da5-403c-b2af-b394ae1309da\",                        [{\"error_y\":{\"array\":[0.3856168599431258,0.34331277576736685,0.25504929210527183,0.2546361348072856,0.1792889950530755,0.16947010296659296,0.14850346138567408,0.1294528023526039,0.10991478381715561,0.061937518146996884],\"type\":\"data\",\"visible\":true},\"mode\":\"markers\",\"name\":\"multi feature\",\"opacity\":0.5,\"x\":[\"Mean platelet (thrombocyte) volume/GP1BB\",\"Albumin/FCGRT\",\"Mean platelet (thrombocyte) volume/GFI1B\",\"Total protein/FCGRT\",\"LDL direct/LDLR\",\"Apolipoprotein B/LDLR\",\"Cholesterol/LDLR\",\"Platelet crit/JAK2\",\"Platelet count/JAK2\",\"Mean reticulocyte volume/CAD\"],\"y\":[0.40710907571987187,0.3743097289090116,0.3024251212215504,0.245483647466991,0.21976422699297893,0.21466042878260147,0.20248872217402666,0.1122290315765811,0.09399898383292829,0.05186411567630658],\"type\":\"scatter\"},{\"error_y\":{\"array\":[0.2819541935522912,0.2325675228746521,0.19287982643342805,0.23358746133500866,0.15225056960069117,0.1510382523409462,0.14359012567556187,0.0898531670303344,0.07959825045441574,0.06099836277535042],\"type\":\"data\",\"visible\":true},\"mode\":\"markers\",\"name\":\"single feature\",\"opacity\":0.5,\"x\":[\"Mean platelet (thrombocyte) volume/GP1BB\",\"Albumin/FCGRT\",\"Mean platelet (thrombocyte) volume/GFI1B\",\"Total protein/FCGRT\",\"LDL direct/LDLR\",\"Apolipoprotein B/LDLR\",\"Cholesterol/LDLR\",\"Platelet crit/JAK2\",\"Platelet count/JAK2\",\"Mean reticulocyte volume/CAD\"],\"y\":[0.20297052532692983,0.08711060808326324,0.08561108921479375,0.11947569120191583,0.18314725297107284,0.17129343764948424,0.14807139706673086,0.05690520681939855,0.05277711091773893,0.03697873703825641],\"type\":\"scatter\"}],                        {\"title\":{\"text\":\"Linear regression on traits, multiple features, 95% CI\"},\"yaxis\":{\"title\":{\"text\":\"R2\"},\"range\":[-0.2,1]},\"template\":{\"data\":{\"histogram2dcontour\":[{\"type\":\"histogram2dcontour\",\"colorbar\":{\"outlinewidth\":0,\"ticks\":\"\"},\"colorscale\":[[0.0,\"#0d0887\"],[0.1111111111111111,\"#46039f\"],[0.2222222222222222,\"#7201a8\"],[0.3333333333333333,\"#9c179e\"],[0.4444444444444444,\"#bd3786\"],[0.5555555555555556,\"#d8576b\"],[0.6666666666666666,\"#ed7953\"],[0.7777777777777778,\"#fb9f3a\"],[0.8888888888888888,\"#fdca26\"],[1.0,\"#f0f921\"]]}],\"choropleth\":[{\"type\":\"choropleth\",\"colorbar\":{\"outlinewidth\":0,\"ticks\":\"\"}}],\"histogram2d\":[{\"type\":\"histogram2d\",\"colorbar\":{\"outlinewidth\":0,\"ticks\":\"\"},\"colorscale\":[[0.0,\"#0d0887\"],[0.1111111111111111,\"#46039f\"],[0.2222222222222222,\"#7201a8\"],[0.3333333333333333,\"#9c179e\"],[0.4444444444444444,\"#bd3786\"],[0.5555555555555556,\"#d8576b\"],[0.6666666666666666,\"#ed7953\"],[0.7777777777777778,\"#fb9f3a\"],[0.8888888888888888,\"#fdca26\"],[1.0,\"#f0f921\"]]}],\"heatmap\":[{\"type\":\"heatmap\",\"colorbar\":{\"outlinewidth\":0,\"ticks\":\"\"},\"colorscale\":[[0.0,\"#0d0887\"],[0.1111111111111111,\"#46039f\"],[0.2222222222222222,\"#7201a8\"],[0.3333333333333333,\"#9c179e\"],[0.4444444444444444,\"#bd3786\"],[0.5555555555555556,\"#d8576b\"],[0.6666666666666666,\"#ed7953\"],[0.7777777777777778,\"#fb9f3a\"],[0.8888888888888888,\"#fdca26\"],[1.0,\"#f0f921\"]]}],\"heatmapgl\":[{\"type\":\"heatmapgl\",\"colorbar\":{\"outlinewidth\":0,\"ticks\":\"\"},\"colorscale\":[[0.0,\"#0d0887\"],[0.1111111111111111,\"#46039f\"],[0.2222222222222222,\"#7201a8\"],[0.3333333333333333,\"#9c179e\"],[0.4444444444444444,\"#bd3786\"],[0.5555555555555556,\"#d8576b\"],[0.6666666666666666,\"#ed7953\"],[0.7777777777777778,\"#fb9f3a\"],[0.8888888888888888,\"#fdca26\"],[1.0,\"#f0f921\"]]}],\"contourcarpet\":[{\"type\":\"contourcarpet\",\"colorbar\":{\"outlinewidth\":0,\"ticks\":\"\"}}],\"contour\":[{\"type\":\"contour\",\"colorbar\":{\"outlinewidth\":0,\"ticks\":\"\"},\"colorscale\":[[0.0,\"#0d0887\"],[0.1111111111111111,\"#46039f\"],[0.2222222222222222,\"#7201a8\"],[0.3333333333333333,\"#9c179e\"],[0.4444444444444444,\"#bd3786\"],[0.5555555555555556,\"#d8576b\"],[0.6666666666666666,\"#ed7953\"],[0.7777777777777778,\"#fb9f3a\"],[0.8888888888888888,\"#fdca26\"],[1.0,\"#f0f921\"]]}],\"surface\":[{\"type\":\"surface\",\"colorbar\":{\"outlinewidth\":0,\"ticks\":\"\"},\"colorscale\":[[0.0,\"#0d0887\"],[0.1111111111111111,\"#46039f\"],[0.2222222222222222,\"#7201a8\"],[0.3333333333333333,\"#9c179e\"],[0.4444444444444444,\"#bd3786\"],[0.5555555555555556,\"#d8576b\"],[0.6666666666666666,\"#ed7953\"],[0.7777777777777778,\"#fb9f3a\"],[0.8888888888888888,\"#fdca26\"],[1.0,\"#f0f921\"]]}],\"mesh3d\":[{\"type\":\"mesh3d\",\"colorbar\":{\"outlinewidth\":0,\"ticks\":\"\"}}],\"scatter\":[{\"fillpattern\":{\"fillmode\":\"overlay\",\"size\":10,\"solidity\":0.2},\"type\":\"scatter\"}],\"parcoords\":[{\"type\":\"parcoords\",\"line\":{\"colorbar\":{\"outlinewidth\":0,\"ticks\":\"\"}}}],\"scatterpolargl\":[{\"type\":\"scatterpolargl\",\"marker\":{\"colorbar\":{\"outlinewidth\":0,\"ticks\":\"\"}}}],\"bar\":[{\"error_x\":{\"color\":\"#2a3f5f\"},\"error_y\":{\"color\":\"#2a3f5f\"},\"marker\":{\"line\":{\"color\":\"#E5ECF6\",\"width\":0.5},\"pattern\":{\"fillmode\":\"overlay\",\"size\":10,\"solidity\":0.2}},\"type\":\"bar\"}],\"scattergeo\":[{\"type\":\"scattergeo\",\"marker\":{\"colorbar\":{\"outlinewidth\":0,\"ticks\":\"\"}}}],\"scatterpolar\":[{\"type\":\"scatterpolar\",\"marker\":{\"colorbar\":{\"outlinewidth\":0,\"ticks\":\"\"}}}],\"histogram\":[{\"marker\":{\"pattern\":{\"fillmode\":\"overlay\",\"size\":10,\"solidity\":0.2}},\"type\":\"histogram\"}],\"scattergl\":[{\"type\":\"scattergl\",\"marker\":{\"colorbar\":{\"outlinewidth\":0,\"ticks\":\"\"}}}],\"scatter3d\":[{\"type\":\"scatter3d\",\"line\":{\"colorbar\":{\"outlinewidth\":0,\"ticks\":\"\"}},\"marker\":{\"colorbar\":{\"outlinewidth\":0,\"ticks\":\"\"}}}],\"scattermapbox\":[{\"type\":\"scattermapbox\",\"marker\":{\"colorbar\":{\"outlinewidth\":0,\"ticks\":\"\"}}}],\"scatterternary\":[{\"type\":\"scatterternary\",\"marker\":{\"colorbar\":{\"outlinewidth\":0,\"ticks\":\"\"}}}],\"scattercarpet\":[{\"type\":\"scattercarpet\",\"marker\":{\"colorbar\":{\"outlinewidth\":0,\"ticks\":\"\"}}}],\"carpet\":[{\"aaxis\":{\"endlinecolor\":\"#2a3f5f\",\"gridcolor\":\"white\",\"linecolor\":\"white\",\"minorgridcolor\":\"white\",\"startlinecolor\":\"#2a3f5f\"},\"baxis\":{\"endlinecolor\":\"#2a3f5f\",\"gridcolor\":\"white\",\"linecolor\":\"white\",\"minorgridcolor\":\"white\",\"startlinecolor\":\"#2a3f5f\"},\"type\":\"carpet\"}],\"table\":[{\"cells\":{\"fill\":{\"color\":\"#EBF0F8\"},\"line\":{\"color\":\"white\"}},\"header\":{\"fill\":{\"color\":\"#C8D4E3\"},\"line\":{\"color\":\"white\"}},\"type\":\"table\"}],\"barpolar\":[{\"marker\":{\"line\":{\"color\":\"#E5ECF6\",\"width\":0.5},\"pattern\":{\"fillmode\":\"overlay\",\"size\":10,\"solidity\":0.2}},\"type\":\"barpolar\"}],\"pie\":[{\"automargin\":true,\"type\":\"pie\"}]},\"layout\":{\"autotypenumbers\":\"strict\",\"colorway\":[\"#636efa\",\"#EF553B\",\"#00cc96\",\"#ab63fa\",\"#FFA15A\",\"#19d3f3\",\"#FF6692\",\"#B6E880\",\"#FF97FF\",\"#FECB52\"],\"font\":{\"color\":\"#2a3f5f\"},\"hovermode\":\"closest\",\"hoverlabel\":{\"align\":\"left\"},\"paper_bgcolor\":\"white\",\"plot_bgcolor\":\"#E5ECF6\",\"polar\":{\"bgcolor\":\"#E5ECF6\",\"angularaxis\":{\"gridcolor\":\"white\",\"linecolor\":\"white\",\"ticks\":\"\"},\"radialaxis\":{\"gridcolor\":\"white\",\"linecolor\":\"white\",\"ticks\":\"\"}},\"ternary\":{\"bgcolor\":\"#E5ECF6\",\"aaxis\":{\"gridcolor\":\"white\",\"linecolor\":\"white\",\"ticks\":\"\"},\"baxis\":{\"gridcolor\":\"white\",\"linecolor\":\"white\",\"ticks\":\"\"},\"caxis\":{\"gridcolor\":\"white\",\"linecolor\":\"white\",\"ticks\":\"\"}},\"coloraxis\":{\"colorbar\":{\"outlinewidth\":0,\"ticks\":\"\"}},\"colorscale\":{\"sequential\":[[0.0,\"#0d0887\"],[0.1111111111111111,\"#46039f\"],[0.2222222222222222,\"#7201a8\"],[0.3333333333333333,\"#9c179e\"],[0.4444444444444444,\"#bd3786\"],[0.5555555555555556,\"#d8576b\"],[0.6666666666666666,\"#ed7953\"],[0.7777777777777778,\"#fb9f3a\"],[0.8888888888888888,\"#fdca26\"],[1.0,\"#f0f921\"]],\"sequentialminus\":[[0.0,\"#0d0887\"],[0.1111111111111111,\"#46039f\"],[0.2222222222222222,\"#7201a8\"],[0.3333333333333333,\"#9c179e\"],[0.4444444444444444,\"#bd3786\"],[0.5555555555555556,\"#d8576b\"],[0.6666666666666666,\"#ed7953\"],[0.7777777777777778,\"#fb9f3a\"],[0.8888888888888888,\"#fdca26\"],[1.0,\"#f0f921\"]],\"diverging\":[[0,\"#8e0152\"],[0.1,\"#c51b7d\"],[0.2,\"#de77ae\"],[0.3,\"#f1b6da\"],[0.4,\"#fde0ef\"],[0.5,\"#f7f7f7\"],[0.6,\"#e6f5d0\"],[0.7,\"#b8e186\"],[0.8,\"#7fbc41\"],[0.9,\"#4d9221\"],[1,\"#276419\"]]},\"xaxis\":{\"gridcolor\":\"white\",\"linecolor\":\"white\",\"ticks\":\"\",\"title\":{\"standoff\":15},\"zerolinecolor\":\"white\",\"automargin\":true,\"zerolinewidth\":2},\"yaxis\":{\"gridcolor\":\"white\",\"linecolor\":\"white\",\"ticks\":\"\",\"title\":{\"standoff\":15},\"zerolinecolor\":\"white\",\"automargin\":true,\"zerolinewidth\":2},\"scene\":{\"xaxis\":{\"backgroundcolor\":\"#E5ECF6\",\"gridcolor\":\"white\",\"linecolor\":\"white\",\"showbackground\":true,\"ticks\":\"\",\"zerolinecolor\":\"white\",\"gridwidth\":2},\"yaxis\":{\"backgroundcolor\":\"#E5ECF6\",\"gridcolor\":\"white\",\"linecolor\":\"white\",\"showbackground\":true,\"ticks\":\"\",\"zerolinecolor\":\"white\",\"gridwidth\":2},\"zaxis\":{\"backgroundcolor\":\"#E5ECF6\",\"gridcolor\":\"white\",\"linecolor\":\"white\",\"showbackground\":true,\"ticks\":\"\",\"zerolinecolor\":\"white\",\"gridwidth\":2}},\"shapedefaults\":{\"line\":{\"color\":\"#2a3f5f\"}},\"annotationdefaults\":{\"arrowcolor\":\"#2a3f5f\",\"arrowhead\":0,\"arrowwidth\":1},\"geo\":{\"bgcolor\":\"white\",\"landcolor\":\"#E5ECF6\",\"subunitcolor\":\"white\",\"showland\":true,\"showlakes\":true,\"lakecolor\":\"white\"},\"title\":{\"x\":0.05},\"mapbox\":{\"style\":\"light\"}}}},                        {\"responsive\": true}                    ).then(function(){\n",
       "                            \n",
       "var gd = document.getElementById('22d316f8-5da5-403c-b2af-b394ae1309da');\n",
       "var x = new MutationObserver(function (mutations, observer) {{\n",
       "        var display = window.getComputedStyle(gd).display;\n",
       "        if (!display || display === 'none') {{\n",
       "            console.log([gd, 'removed!']);\n",
       "            Plotly.purge(gd);\n",
       "            observer.disconnect();\n",
       "        }}\n",
       "}});\n",
       "\n",
       "// Listen for the removal of the full notebook cells\n",
       "var notebookContainer = gd.closest('#notebook-container');\n",
       "if (notebookContainer) {{\n",
       "    x.observe(notebookContainer, {childList: true});\n",
       "}}\n",
       "\n",
       "// Listen for the clearing of the current output cell\n",
       "var outputEl = gd.closest('.output');\n",
       "if (outputEl) {{\n",
       "    x.observe(outputEl, {childList: true});\n",
       "}}\n",
       "\n",
       "                        })                };                });            </script>        </div>"
      ]
     },
     "metadata": {},
     "output_type": "display_data"
    }
   ],
   "source": [
    "fig = go.Figure(data=[go.Scatter(\n",
    "        x=multi_feature_regression_results_for_plot[\"phenotype/gene\"],\n",
    "        y=multi_feature_regression_results_for_plot[\"mean\"],\n",
    "        mode='markers',\n",
    "        opacity=.5,\n",
    "        name=\"multi feature\",\n",
    "        error_y=dict(\n",
    "            type='data',\n",
    "            array=multi_feature_regression_results_for_plot[\"ci\"],\n",
    "            visible=True)\n",
    "    ), go.Scatter(\n",
    "        x=regression_results_df_for_plot[\"phenotype/gene\"],\n",
    "        y=regression_results_df_for_plot[\"mean\"],\n",
    "        mode='markers',\n",
    "        opacity=.5,\n",
    "        name=\"single feature\",\n",
    "        error_y=dict(\n",
    "            type='data',\n",
    "            array=regression_results_df_for_plot[\"ci\"],\n",
    "            visible=True))],\n",
    "    layout=dict(\n",
    "        title=\"Linear regression on traits, multiple features, 95% CI\",\n",
    "        yaxis_title=\"R2\",\n",
    "        yaxis_range=[-0.2,1]))\n",
    "fig.show()"
   ]
  },
  {
   "cell_type": "code",
   "execution_count": 60,
   "id": "60bf94dc-206b-4a90-a430-217909f393b7",
   "metadata": {},
   "outputs": [],
   "source": [
    "# see for how many pairs there is improvement in mean, for how many mean ci differences are higher\n",
    "joint_single_multi = regression_results_df.sort_values(\"mean\", ascending=False).drop_duplicates(\"phenotype/gene\").merge(\n",
    "    multi_feature_regression_results_df.sort_values(\"mean\", ascending=False).drop_duplicates(\"phenotype/gene\"), on=\"phenotype/gene\", how=\"left\")\n"
   ]
  },
  {
   "cell_type": "code",
   "execution_count": 90,
   "id": "a2e0f480-9066-4978-82be-80311f4bb603",
   "metadata": {},
   "outputs": [
    {
     "name": "stdout",
     "output_type": "stream",
     "text": [
      "We see higher mean R2 in 0.95% of phenotype-gene pairs when using multiple features (out of 524 pairs) and in 0.70% 'mean R2 - R2 std dev' difference is higher. Note that standard deviation is also higher in 0.82%.\n"
     ]
    }
   ],
   "source": [
    "print(f\"We see higher mean R2 in {len(joint_single_multi[joint_single_multi.mean_x < joint_single_multi.mean_y]) / len(joint_single_multi):.2f}%\\\n",
    " of phenotype-gene pairs when using multiple features (out of {len(joint_single_multi)} pairs) and in \\\n",
    "{(len(joint_single_multi[joint_single_multi.mean_x - joint_single_multi.std_x < joint_single_multi.mean_y - joint_single_multi.std_y])) / len(joint_single_multi):.2f}%\\\n",
    " 'mean R2 - R2 std dev' difference is higher. Note that standard deviation is also higher in {len(joint_single_multi[joint_single_multi.std_x < joint_single_multi.std_y])/len(joint_single_multi):.2f}%.\")\n"
   ]
  },
  {
   "cell_type": "code",
   "execution_count": null,
   "id": "85dfcfc0-8898-48f7-a1a0-7aee88a7af6a",
   "metadata": {},
   "outputs": [],
   "source": [
    "set(multi_feature_regression_results_df[multi_feature_regression_results_df[\"mean\"] > multi_feature_regression_results_df[\"std\"]].drop_duplicates(\n",
    "    \"phenotype/gene\")[\"phenotype/gene\"].unique()).difference(\n",
    "    regression_results_df[regression_results_df[\"mean\"] > regression_results_df[\"std\"]].drop_duplicates(\"phenotype/gene\")[\"phenotype/gene\"].unique())"
   ]
  },
  {
   "cell_type": "code",
   "execution_count": 235,
   "id": "1cdf20fa-256f-46e5-861d-3190661aa068",
   "metadata": {},
   "outputs": [
    {
     "data": {
      "text/plain": [
       "{'Apolipoprotein A/LIPC'}"
      ]
     },
     "execution_count": 235,
     "metadata": {},
     "output_type": "execute_result"
    }
   ],
   "source": [
    "# check if there are any phenotype/gene pairs where mean R2 is greater than std and that are better predicted with a single feature\n",
    "better_single_set = set(regression_results_df[regression_results_df[\"mean\"] > regression_results_df[\"std\"]].drop_duplicates(\"phenotype/gene\")[\"phenotype/gene\"].unique()).difference(\n",
    "    multi_feature_regression_results_df[multi_feature_regression_results_df[\"mean\"] > multi_feature_regression_results_df[\"std\"]].drop_duplicates(\n",
    "    \"phenotype/gene\")[\"phenotype/gene\"].unique())\n",
    "better_single_set"
   ]
  },
  {
   "cell_type": "code",
   "execution_count": 275,
   "id": "4c11fdea-7828-4ca4-9974-b5a0f6f7afe1",
   "metadata": {},
   "outputs": [],
   "source": [
    "phenotype_gene_top_features = multi_feature_regression_results_df[multi_feature_regression_results_df[\"mean\"] > multi_feature_regression_results_df[\"std\"]].sort_values(\n",
    "    \"mean\", ascending=False).drop_duplicates(\"phenotype/gene\")\n",
    "\n",
    "regression_results_df_top = regression_results_df[\n",
    "    regression_results_df[\"phenotype/gene\"].isin(better_single_set) & (regression_results_df[\"mean\"] > regression_results_df[\"std\"])].sort_values(\n",
    "    \"mean\", ascending=False).drop_duplicates(\"phenotype/gene\")\n",
    "\n",
    "regression_results_df_top.feature = regression_results_df_top.feature.apply(lambda x: [x])\n",
    "regression_results_df_top = regression_results_df_top.rename(columns={\"feature\": \"features\"}).drop(columns=\"extended_features\")\n",
    "\n",
    "phenotype_gene_top_features = pd.concat((phenotype_gene_top_features, regression_results_df_top), axis=0)\n",
    "phenotype_gene_top_features.reset_index(drop=True)\n",
    "# save the df with top features\n",
    "phenotype_gene_top_features.to_pickle(\"regression_results_w_multi_features_processed.pkl\")"
   ]
  },
  {
   "cell_type": "code",
   "execution_count": 281,
   "id": "e443123c-f76b-4eff-99dc-e42776dd1b0e",
   "metadata": {},
   "outputs": [
    {
     "data": {
      "text/html": [
       "<div>\n",
       "<style scoped>\n",
       "    .dataframe tbody tr th:only-of-type {\n",
       "        vertical-align: middle;\n",
       "    }\n",
       "\n",
       "    .dataframe tbody tr th {\n",
       "        vertical-align: top;\n",
       "    }\n",
       "\n",
       "    .dataframe thead th {\n",
       "        text-align: right;\n",
       "    }\n",
       "</style>\n",
       "<table border=\"1\" class=\"dataframe\">\n",
       "  <thead>\n",
       "    <tr style=\"text-align: right;\">\n",
       "      <th></th>\n",
       "      <th>features</th>\n",
       "      <th># occurences</th>\n",
       "    </tr>\n",
       "  </thead>\n",
       "  <tbody>\n",
       "    <tr>\n",
       "      <th>0</th>\n",
       "      <td>NormASA</td>\n",
       "      <td>12</td>\n",
       "    </tr>\n",
       "    <tr>\n",
       "      <th>1</th>\n",
       "      <td>BayesDel_addAF_pred</td>\n",
       "      <td>9</td>\n",
       "    </tr>\n",
       "    <tr>\n",
       "      <th>2</th>\n",
       "      <td>MutPred_rankscore</td>\n",
       "      <td>8</td>\n",
       "    </tr>\n",
       "    <tr>\n",
       "      <th>3</th>\n",
       "      <td>dVol_**2</td>\n",
       "      <td>8</td>\n",
       "    </tr>\n",
       "    <tr>\n",
       "      <th>4</th>\n",
       "      <td>JXmin</td>\n",
       "      <td>7</td>\n",
       "    </tr>\n",
       "    <tr>\n",
       "      <th>5</th>\n",
       "      <td>M-CAP_pred</td>\n",
       "      <td>7</td>\n",
       "    </tr>\n",
       "    <tr>\n",
       "      <th>6</th>\n",
       "      <td>ClinPred_pred</td>\n",
       "      <td>7</td>\n",
       "    </tr>\n",
       "    <tr>\n",
       "      <th>7</th>\n",
       "      <td>MetaLR_pred</td>\n",
       "      <td>6</td>\n",
       "    </tr>\n",
       "    <tr>\n",
       "      <th>8</th>\n",
       "      <td>MetaRNN_rankscore</td>\n",
       "      <td>6</td>\n",
       "    </tr>\n",
       "    <tr>\n",
       "      <th>9</th>\n",
       "      <td>trv</td>\n",
       "      <td>6</td>\n",
       "    </tr>\n",
       "  </tbody>\n",
       "</table>\n",
       "</div>"
      ],
      "text/plain": [
       "              features  # occurences\n",
       "0              NormASA            12\n",
       "1  BayesDel_addAF_pred             9\n",
       "2    MutPred_rankscore             8\n",
       "3             dVol_**2             8\n",
       "4                JXmin             7\n",
       "5           M-CAP_pred             7\n",
       "6        ClinPred_pred             7\n",
       "7          MetaLR_pred             6\n",
       "8    MetaRNN_rankscore             6\n",
       "9                  trv             6"
      ]
     },
     "execution_count": 281,
     "metadata": {},
     "output_type": "execute_result"
    }
   ],
   "source": [
    "# most often occuring features\n",
    "phenotype_gene_top_features.features.explode().reset_index().groupby(\"features\").count().sort_values(\n",
    "    \"index\", ascending=False).reset_index().rename(columns={\"index\": \"# occurences\"}).head(10)"
   ]
  },
  {
   "cell_type": "code",
   "execution_count": null,
   "id": "dca9969c-7211-4d69-a4ce-9a7d7b3f7de8",
   "metadata": {},
   "outputs": [],
   "source": []
  },
  {
   "cell_type": "code",
   "execution_count": null,
   "id": "a143c688-4407-4846-8d06-ee6e74d69926",
   "metadata": {},
   "outputs": [],
   "source": []
  },
  {
   "cell_type": "code",
   "execution_count": 349,
   "id": "634d1dc9-501c-4876-b663-85e32163d141",
   "metadata": {},
   "outputs": [],
   "source": [
    "# try various configurations for MLP training: LDLR to predict LDL, multiple outputs\n",
    "# same for Platelet distribution width/TUBB1 and Platelet count/JAK2"
   ]
  },
  {
   "cell_type": "code",
   "execution_count": 357,
   "id": "787001a4-b062-4cfd-9b28-dbe1b163226a",
   "metadata": {},
   "outputs": [],
   "source": [
    "from sklearn.model_selection import GridSearchCV\n",
    "from sklearn.neural_network import MLPRegressor"
   ]
  },
  {
   "cell_type": "code",
   "execution_count": 355,
   "id": "e4afec62-a54f-4a2f-be5a-ec348570093f",
   "metadata": {},
   "outputs": [],
   "source": [
    "import data_helpers"
   ]
  },
  {
   "cell_type": "code",
   "execution_count": 385,
   "id": "b5ff4217-397a-487a-aaa9-0b989c166cba",
   "metadata": {},
   "outputs": [],
   "source": [
    "parameters = {'hidden_layer_sizes':((250,)), 'max_iter':[2000],\n",
    "              \"activation\":[\"logistic\"]}"
   ]
  },
  {
   "cell_type": "code",
   "execution_count": 368,
   "id": "4eae2918-1c81-440b-8109-0f9c72d5eae1",
   "metadata": {},
   "outputs": [],
   "source": [
    "phenotype_gene = \"LDL direct/LDLR\""
   ]
  },
  {
   "cell_type": "code",
   "execution_count": 374,
   "id": "19552e00-b80f-4935-a99f-8633620794b7",
   "metadata": {
    "scrolled": true,
    "tags": []
   },
   "outputs": [],
   "source": [
    "phenotype_gene_to_features_mapping = dict(phenotype_gene_top_features[[\"phenotype/gene\", \"features\"]].values)\n",
    "\n",
    "train_size = 0.8\n",
    "n_seeds = 10\n",
    "phenotype = phenotype_gene.split(\"/\")[0]\n",
    "gene = phenotype_gene.split(\"/\")[1]\n",
    "results = []\n",
    "vars_df = all_vars_phenotypes_df[(all_vars_phenotypes_df.phenotype == phenotype) & (all_vars_phenotypes_df.gene == gene)]\n",
    "phenotype_continuous = vars_df.phenotype_continuous.iloc[0]\n",
    "# start with top result feature\n",
    "top_features = phenotype_gene_to_features_mapping[phenotype_gene]\n",
    "vars_df = data_helpers.get_features_df(vars_df, phenotype_gene_to_features_mapping[phenotype_gene] + \\\n",
    "                                      phenotype_gene_to_features_mapping[\"Cholesterol/LDLR\"] + phenotype_gene_to_features_mapping[\"Apolipoprotein B\"])\n",
    "for maf in [0.1]:\n",
    "    cur_vars_df = vars_df[vars_df.highest_AF < maf]\n",
    "    cur_unique_vars = cur_vars_df.var_id.unique()\n",
    "    cur_best_mean_r2 = -99999\n",
    "    cur_best_median_r2 = 0\n",
    "    cur_best_std_r2 = 0\n",
    "    cur_best_features = []\n",
    "    \n",
    "    regr = MLPRegressor()\n",
    "    clf = GridSearchCV(regr, parameters)\n",
    "    clf.fit(cur_vars_df.values[:, 3:], cur_vars_df.predictand.values)\n",
    "\n",
    "#     all_r2 = []\n",
    "#     for seed in range(n_seeds):\n",
    "#         # split on variants\n",
    "#         train_variants, test_variants = train_test_split(cur_unique_vars, train_size=train_size, random_state=seed)\n",
    "#         train_split, test_split = cur_vars_df[cur_vars_df.var_id.isin(train_variants)], cur_vars_df[cur_vars_df.var_id.isin(test_variants)]\n",
    "#         Xs_train, Xs_test, ys_train, ys_test = train_split.iloc[:, 3:].values, test_split.iloc[:, 3:].values, train_split.predictand, test_split.predictand\n",
    "#         model = MLPRegressor(hidden_layer_sizes=(10,), max_iter=5000, activation=\"tanh\")\n",
    "#         regr = model.fit(Xs_train, ys_train)\n",
    "#         cur_r2 = r2_score(ys_test, regr.predict(Xs_test))\n",
    "#         all_r2.append(cur_r2)\n",
    "#     cur_mean_r2 = np.mean(all_r2)\n",
    "#     cur_best_median_r2 = np.median(all_r2)\n",
    "#     cur_best_std_r2 = np.std(all_r2)\n",
    "#     results.append((phenotype_gene, top_features, cur_mean_r2, cur_best_median_r2, cur_best_std_r2, len(cur_vars_df), maf))"
   ]
  },
  {
   "cell_type": "code",
   "execution_count": 375,
   "id": "4e296a65-48ff-4773-a0aa-46220d648881",
   "metadata": {},
   "outputs": [
    {
     "data": {
      "text/plain": [
       "{'activation': 'logistic', 'hidden_layer_sizes': (250,), 'max_iter': 2000}"
      ]
     },
     "execution_count": 375,
     "metadata": {},
     "output_type": "execute_result"
    }
   ],
   "source": [
    "clf.best_params_"
   ]
  },
  {
   "cell_type": "code",
   "execution_count": 379,
   "id": "22c47b54-19a5-46f6-8b65-8d705cf3efb6",
   "metadata": {},
   "outputs": [
    {
     "data": {
      "text/plain": [
       "0.2424773156378779"
      ]
     },
     "execution_count": 379,
     "metadata": {},
     "output_type": "execute_result"
    }
   ],
   "source": [
    "clf.score(cur_vars_df.values[:, 3:], cur_vars_df.predictand.values)"
   ]
  },
  {
   "cell_type": "code",
   "execution_count": 381,
   "id": "d5453c3d-0615-4ace-b7e0-55ece247005c",
   "metadata": {},
   "outputs": [
    {
     "data": {
      "text/html": [
       "<div>\n",
       "<style scoped>\n",
       "    .dataframe tbody tr th:only-of-type {\n",
       "        vertical-align: middle;\n",
       "    }\n",
       "\n",
       "    .dataframe tbody tr th {\n",
       "        vertical-align: top;\n",
       "    }\n",
       "\n",
       "    .dataframe thead th {\n",
       "        text-align: right;\n",
       "    }\n",
       "</style>\n",
       "<table border=\"1\" class=\"dataframe\">\n",
       "  <thead>\n",
       "    <tr style=\"text-align: right;\">\n",
       "      <th></th>\n",
       "      <th>phenotype/gene</th>\n",
       "      <th>features</th>\n",
       "      <th>mean</th>\n",
       "      <th>median</th>\n",
       "      <th>std</th>\n",
       "      <th>#variants</th>\n",
       "      <th>maf</th>\n",
       "      <th>phenotype</th>\n",
       "      <th>gene</th>\n",
       "      <th>ci</th>\n",
       "      <th>mean_ci_difference</th>\n",
       "    </tr>\n",
       "  </thead>\n",
       "  <tbody>\n",
       "    <tr>\n",
       "      <th>61</th>\n",
       "      <td>LDL direct/LDLR</td>\n",
       "      <td>[BayesDel_addAF_rankscore, BayesDel_addAF_rank...</td>\n",
       "      <td>0.219764</td>\n",
       "      <td>0.243628</td>\n",
       "      <td>0.091476</td>\n",
       "      <td>387</td>\n",
       "      <td>0.010</td>\n",
       "      <td>LDL direct</td>\n",
       "      <td>LDLR</td>\n",
       "      <td>0.179289</td>\n",
       "      <td>0.040475</td>\n",
       "    </tr>\n",
       "    <tr>\n",
       "      <th>67</th>\n",
       "      <td>Apolipoprotein B/LDLR</td>\n",
       "      <td>[BayesDel_addAF_score, BayesDel_addAF_score_**...</td>\n",
       "      <td>0.214660</td>\n",
       "      <td>0.217351</td>\n",
       "      <td>0.086466</td>\n",
       "      <td>383</td>\n",
       "      <td>0.010</td>\n",
       "      <td>Apolipoprotein B</td>\n",
       "      <td>LDLR</td>\n",
       "      <td>0.169470</td>\n",
       "      <td>0.045190</td>\n",
       "    </tr>\n",
       "    <tr>\n",
       "      <th>81</th>\n",
       "      <td>Cholesterol/LDLR</td>\n",
       "      <td>[MetaRNN_rankscore, MetaRNN_rankscore_**2, Met...</td>\n",
       "      <td>0.202489</td>\n",
       "      <td>0.209053</td>\n",
       "      <td>0.075768</td>\n",
       "      <td>371</td>\n",
       "      <td>0.001</td>\n",
       "      <td>Cholesterol</td>\n",
       "      <td>LDLR</td>\n",
       "      <td>0.148503</td>\n",
       "      <td>0.053985</td>\n",
       "    </tr>\n",
       "  </tbody>\n",
       "</table>\n",
       "</div>"
      ],
      "text/plain": [
       "           phenotype/gene                                           features  \\\n",
       "61        LDL direct/LDLR  [BayesDel_addAF_rankscore, BayesDel_addAF_rank...   \n",
       "67  Apolipoprotein B/LDLR  [BayesDel_addAF_score, BayesDel_addAF_score_**...   \n",
       "81       Cholesterol/LDLR  [MetaRNN_rankscore, MetaRNN_rankscore_**2, Met...   \n",
       "\n",
       "        mean    median       std  #variants    maf         phenotype  gene  \\\n",
       "61  0.219764  0.243628  0.091476        387  0.010        LDL direct  LDLR   \n",
       "67  0.214660  0.217351  0.086466        383  0.010  Apolipoprotein B  LDLR   \n",
       "81  0.202489  0.209053  0.075768        371  0.001       Cholesterol  LDLR   \n",
       "\n",
       "          ci  mean_ci_difference  \n",
       "61  0.179289            0.040475  \n",
       "67  0.169470            0.045190  \n",
       "81  0.148503            0.053985  "
      ]
     },
     "execution_count": 381,
     "metadata": {},
     "output_type": "execute_result"
    }
   ],
   "source": [
    "phenotype_gene_top_features[phenotype_gene_top_features.gene == \"LDLR\"]"
   ]
  },
  {
   "cell_type": "code",
   "execution_count": null,
   "id": "fb9c972c-d12d-4a00-8e29-4a5194fbdbe5",
   "metadata": {},
   "outputs": [],
   "source": [
    "# add another output - LDLR but other out"
   ]
  },
  {
   "cell_type": "code",
   "execution_count": null,
   "id": "9e8becdd-0af4-4179-8966-e83daf314256",
   "metadata": {},
   "outputs": [],
   "source": [
    "second_phenotype_gene = \"Cholesterol/LDLR\""
   ]
  },
  {
   "cell_type": "code",
   "execution_count": 451,
   "id": "8bd1d63a-3a2f-42cc-b4c0-de40ebf1aa54",
   "metadata": {},
   "outputs": [
    {
     "name": "stdout",
     "output_type": "stream",
     "text": [
      "mean: -0.0005952919567927095\n",
      "median: 0.047712635591234176\n",
      "std: 0.14726580413968446\n"
     ]
    },
    {
     "data": {
      "text/plain": [
       "GridSearchCV(estimator=MLPRegressor(),\n",
       "             param_grid={'activation': ['logistic'],\n",
       "                         'hidden_layer_sizes': (250,), 'max_iter': [2000]})"
      ]
     },
     "execution_count": 451,
     "metadata": {},
     "output_type": "execute_result"
    }
   ],
   "source": [
    "phenotype_gene_to_features_mapping = dict(phenotype_gene_top_features[[\"phenotype/gene\", \"features\"]].values)\n",
    "\n",
    "train_size = 0.8\n",
    "n_seeds = 10\n",
    "phenotype = phenotype_gene.split(\"/\")[0]\n",
    "gene = phenotype_gene.split(\"/\")[1]\n",
    "results = []\n",
    "vars_df = all_vars_phenotypes_df[all_vars_phenotypes_df.phenotype.isin([\"Cholesterol\", \"LDL direct\", \"Apolipoprotein B\"]) & (all_vars_phenotypes_df.gene == gene)]\n",
    "vars_multi_out = vars_df[[\"var_id\", \"phenotype\", \"predictand\"]]\n",
    "vars_multi_out = vars_multi_out.groupby(\"var_id\").predictand.apply(list).reset_index()\n",
    "vars_multi_out = vars_multi_out[vars_multi_out.predictand.apply(len) == 3]\n",
    "# start with top result feature\n",
    "top_features = phenotype_gene_to_features_mapping[\"Cholesterol/LDLR\"]#phenotype_gene_to_features_mapping[phenotype_gene] + \\\n",
    "                                       #+ phenotype_gene_to_features_mapping[\"Apolipoprotein B/LDLR\"]\n",
    "vars_df = data_helpers.get_features_df(vars_df[vars_df.phenotype == \"LDL direct\"], top_features)\n",
    "maf = 0.1\n",
    "cur_vars_df = vars_df[vars_df.highest_AF < maf]\n",
    "cur_vars_df = cur_vars_df.merge(vars_multi_out, how=\"inner\", on=\"var_id\")\n",
    "cur_unique_vars = cur_vars_df.var_id.unique()\n",
    "cur_best_mean_r2 = -99999\n",
    "cur_best_median_r2 = 0\n",
    "cur_best_std_r2 = 0\n",
    "cur_best_features = []\n",
    "\n",
    "all_r2 = []\n",
    "for seed in range(n_seeds):\n",
    "    # split on variants\n",
    "    train_variants, test_variants = train_test_split(cur_unique_vars, train_size=train_size, random_state=seed)\n",
    "    train_split, test_split = cur_vars_df[cur_vars_df.var_id.isin(train_variants)], cur_vars_df[cur_vars_df.var_id.isin(test_variants)]\n",
    "    Xs_train, Xs_test, ys_train, ys_test = train_split.iloc[:, 3:-1].values, test_split.iloc[:, 3:-1].values, np.array(train_split.predictand_y.values.tolist()), np.array(test_split.predictand_y.values.tolist())\n",
    "    # for categorical phenotypes use logit regression\n",
    "    model = MLPRegressor(hidden_layer_sizes=(250,), max_iter=2000, activation=\"logistic\")#LinearRegression() if phenotype_continuous else LogitRegression()\n",
    "    regr = model.fit(Xs_train, ys_train)\n",
    "    cur_r2 = r2_score(ys_test[:,1], regr.predict(Xs_test)[:, 1])\n",
    "    all_r2.append(cur_r2)\n",
    "print(f\"mean: {np.mean(all_r2)}\")\n",
    "print(f\"median: {np.median(all_r2)}\")\n",
    "print(f\"std: {np.std(all_r2)}\")\n",
    "\n",
    "regr = MLPRegressor(hidden_layer_sizes=(250,), max_iter=2000,\n",
    "              activation=\"logistic\")\n",
    "clf.fit(cur_vars_df.values[:, 3:-1], np.array(cur_vars_df.predictand_y.values.tolist()))"
   ]
  },
  {
   "cell_type": "code",
   "execution_count": null,
   "id": "d56aff54-fc8d-4c7f-a0ca-6978b353cf9b",
   "metadata": {},
   "outputs": [],
   "source": [
    "# zero, 3 outs\n",
    "# mean: 0.1847373429030412\n",
    "# median: 0.21774385378285283\n",
    "# std: 0.1068405856640215\n",
    "\n",
    "# zero 1 out\n",
    "# mean: 0.18018659409865082\n",
    "# median: 0.20942958166422626\n",
    "# std: 0.11547843140092721"
   ]
  },
  {
   "cell_type": "code",
   "execution_count": null,
   "id": "177f80a5-a81d-4666-8eb4-4a62270c1b14",
   "metadata": {},
   "outputs": [],
   "source": [
    "# one, 3 outs\n",
    "# mean: 0.19007749050054612\n",
    "# median: 0.21101389118442676\n",
    "# std: 0.11206605086316353\n",
    "\n",
    "# one, 1 out\n",
    "# mean: 0.14246608201244024\n",
    "# median: 0.1539996656925416\n",
    "# std: 0.08787060432377644"
   ]
  },
  {
   "cell_type": "code",
   "execution_count": null,
   "id": "e727324e-7cf4-4488-8bcf-3a539c6756ba",
   "metadata": {},
   "outputs": [],
   "source": [
    "# two 3 outs\n",
    "# mean: 0.1305830545883707\n",
    "# median: 0.1522987318450354\n",
    "# std: 0.10818831707308864\n",
    "\n",
    "# two one out\n",
    "# mean: 0.13165787106368576\n",
    "# median: 0.16081015771324608\n",
    "# std: 0.11927673626933531"
   ]
  },
  {
   "cell_type": "code",
   "execution_count": null,
   "id": "85abeae2-13a4-4160-81a2-2c16548265b3",
   "metadata": {},
   "outputs": [],
   "source": []
  },
  {
   "cell_type": "code",
   "execution_count": 429,
   "id": "17344a20-271c-4a5c-970b-ba15104832c3",
   "metadata": {},
   "outputs": [],
   "source": [
    "# \"zero\":\n",
    "# mean: 0.20150328062109762\n",
    "# median: 0.18861235736529725\n",
    "# std: 0.051496798165414276"
   ]
  },
  {
   "cell_type": "code",
   "execution_count": null,
   "id": "f4055758-cc24-4df1-bbe4-a5a489c2d6d4",
   "metadata": {},
   "outputs": [],
   "source": [
    "# \"one\":\n",
    "# mean: 0.178338184617977\n",
    "# median: 0.1709843692565387\n",
    "# std: 0.04217340423498233"
   ]
  },
  {
   "cell_type": "code",
   "execution_count": 159,
   "id": "0d050bc4-c9a5-4fce-9d4d-e9c39a60ab65",
   "metadata": {},
   "outputs": [],
   "source": [
    "# run regression on these features, but normalize the predictand - subtract mean, divide by std dev.\n",
    "# this is to have one model to treat multiple genes/traits. Normalize per gene/trait pair.\n",
    "!python execute_regression_normalized_data.py"
   ]
  },
  {
   "cell_type": "code",
   "execution_count": null,
   "id": "67306989-98c3-443b-87ae-c4f0e94b78a8",
   "metadata": {},
   "outputs": [],
   "source": [
    "add_ci_filter_mean(pd.read_pickle(\"regression_multi_feature_normalized.pkl\")).sort_values(\"mean_ci_difference\", ascending=False).drop_duplicates(\"phenotype/gene\").head(10)"
   ]
  },
  {
   "cell_type": "code",
   "execution_count": 475,
   "id": "413298cb-60c7-4aaa-a979-53fb84130dde",
   "metadata": {},
   "outputs": [
    {
     "data": {
      "text/html": [
       "<div>\n",
       "<style scoped>\n",
       "    .dataframe tbody tr th:only-of-type {\n",
       "        vertical-align: middle;\n",
       "    }\n",
       "\n",
       "    .dataframe tbody tr th {\n",
       "        vertical-align: top;\n",
       "    }\n",
       "\n",
       "    .dataframe thead th {\n",
       "        text-align: right;\n",
       "    }\n",
       "</style>\n",
       "<table border=\"1\" class=\"dataframe\">\n",
       "  <thead>\n",
       "    <tr style=\"text-align: right;\">\n",
       "      <th></th>\n",
       "      <th>phenotype/gene</th>\n",
       "      <th>features</th>\n",
       "      <th>mean</th>\n",
       "      <th>median</th>\n",
       "      <th>std</th>\n",
       "      <th>#variants</th>\n",
       "      <th>maf</th>\n",
       "      <th>phenotype</th>\n",
       "      <th>gene</th>\n",
       "      <th>ci</th>\n",
       "      <th>mean_ci_difference</th>\n",
       "    </tr>\n",
       "  </thead>\n",
       "  <tbody>\n",
       "    <tr>\n",
       "      <th>16</th>\n",
       "      <td>Calcium/CASR</td>\n",
       "      <td>[EVE_scores_ASM, EVE_scores_ASM_na, site, phyl...</td>\n",
       "      <td>0.158051</td>\n",
       "      <td>0.159185</td>\n",
       "      <td>0.025800</td>\n",
       "      <td>309</td>\n",
       "      <td>0.0100</td>\n",
       "      <td>Calcium</td>\n",
       "      <td>CASR</td>\n",
       "      <td>0.050567</td>\n",
       "      <td>0.107484</td>\n",
       "    </tr>\n",
       "    <tr>\n",
       "      <th>13</th>\n",
       "      <td>Immature reticulocyte fraction/GMPR</td>\n",
       "      <td>[polar_delta, polar_delta_**2, trv, dVol_**2, ...</td>\n",
       "      <td>0.165158</td>\n",
       "      <td>0.150898</td>\n",
       "      <td>0.041324</td>\n",
       "      <td>108</td>\n",
       "      <td>0.0001</td>\n",
       "      <td>Immature reticulocyte fraction</td>\n",
       "      <td>GMPR</td>\n",
       "      <td>0.080994</td>\n",
       "      <td>0.084164</td>\n",
       "    </tr>\n",
       "    <tr>\n",
       "      <th>5</th>\n",
       "      <td>Apolipoprotein A/NEK7</td>\n",
       "      <td>[phastCons17way_primate, phastCons17way_primat...</td>\n",
       "      <td>0.196919</td>\n",
       "      <td>0.192690</td>\n",
       "      <td>0.064679</td>\n",
       "      <td>77</td>\n",
       "      <td>0.0010</td>\n",
       "      <td>Apolipoprotein A</td>\n",
       "      <td>NEK7</td>\n",
       "      <td>0.126768</td>\n",
       "      <td>0.070151</td>\n",
       "    </tr>\n",
       "    <tr>\n",
       "      <th>11</th>\n",
       "      <td>LDL direct/LDLR</td>\n",
       "      <td>[BayesDel_addAF_rankscore, BayesDel_addAF_rank...</td>\n",
       "      <td>0.169094</td>\n",
       "      <td>0.172389</td>\n",
       "      <td>0.051474</td>\n",
       "      <td>389</td>\n",
       "      <td>0.1000</td>\n",
       "      <td>LDL direct</td>\n",
       "      <td>LDLR</td>\n",
       "      <td>0.100886</td>\n",
       "      <td>0.068207</td>\n",
       "    </tr>\n",
       "    <tr>\n",
       "      <th>31</th>\n",
       "      <td>Phosphate/ALPL</td>\n",
       "      <td>[BayesDel_noAF_score, JXc, BayesDel_addAF_pred...</td>\n",
       "      <td>0.125282</td>\n",
       "      <td>0.126893</td>\n",
       "      <td>0.039267</td>\n",
       "      <td>213</td>\n",
       "      <td>0.0010</td>\n",
       "      <td>Phosphate</td>\n",
       "      <td>ALPL</td>\n",
       "      <td>0.076961</td>\n",
       "      <td>0.048321</td>\n",
       "    </tr>\n",
       "    <tr>\n",
       "      <th>9</th>\n",
       "      <td>Cholesterol/LDLR</td>\n",
       "      <td>[MetaRNN_rankscore, MetaRNN_rankscore_**2, Met...</td>\n",
       "      <td>0.169660</td>\n",
       "      <td>0.167156</td>\n",
       "      <td>0.063613</td>\n",
       "      <td>371</td>\n",
       "      <td>0.0010</td>\n",
       "      <td>Cholesterol</td>\n",
       "      <td>LDLR</td>\n",
       "      <td>0.124679</td>\n",
       "      <td>0.044981</td>\n",
       "    </tr>\n",
       "    <tr>\n",
       "      <th>25</th>\n",
       "      <td>Apolipoprotein B/LDLR</td>\n",
       "      <td>[BayesDel_addAF_score, BayesDel_addAF_score_**...</td>\n",
       "      <td>0.142124</td>\n",
       "      <td>0.126225</td>\n",
       "      <td>0.055314</td>\n",
       "      <td>385</td>\n",
       "      <td>0.1000</td>\n",
       "      <td>Apolipoprotein B</td>\n",
       "      <td>LDLR</td>\n",
       "      <td>0.108413</td>\n",
       "      <td>0.033711</td>\n",
       "    </tr>\n",
       "    <tr>\n",
       "      <th>12</th>\n",
       "      <td>Platelet distribution width/TUBB1</td>\n",
       "      <td>[VEST4_rankscore, VEST4_rankscore_**2, predict...</td>\n",
       "      <td>0.168485</td>\n",
       "      <td>0.140036</td>\n",
       "      <td>0.084614</td>\n",
       "      <td>212</td>\n",
       "      <td>0.0010</td>\n",
       "      <td>Platelet distribution width</td>\n",
       "      <td>TUBB1</td>\n",
       "      <td>0.165840</td>\n",
       "      <td>0.002645</td>\n",
       "    </tr>\n",
       "    <tr>\n",
       "      <th>18</th>\n",
       "      <td>Mean platelet (thrombocyte) volume/GFI1B</td>\n",
       "      <td>[NormASA, prediction, SecStr, MapReg, MetaLR_p...</td>\n",
       "      <td>0.155434</td>\n",
       "      <td>0.139781</td>\n",
       "      <td>0.080662</td>\n",
       "      <td>187</td>\n",
       "      <td>0.1000</td>\n",
       "      <td>Mean platelet (thrombocyte) volume</td>\n",
       "      <td>GFI1B</td>\n",
       "      <td>0.158094</td>\n",
       "      <td>-0.002660</td>\n",
       "    </tr>\n",
       "    <tr>\n",
       "      <th>91</th>\n",
       "      <td>Mean reticulocyte volume/CAD</td>\n",
       "      <td>[Eigen-phred_coding, dScore, pph2_TPR_y]</td>\n",
       "      <td>0.040002</td>\n",
       "      <td>0.043313</td>\n",
       "      <td>0.022532</td>\n",
       "      <td>794</td>\n",
       "      <td>0.1000</td>\n",
       "      <td>Mean reticulocyte volume</td>\n",
       "      <td>CAD</td>\n",
       "      <td>0.044162</td>\n",
       "      <td>-0.004161</td>\n",
       "    </tr>\n",
       "  </tbody>\n",
       "</table>\n",
       "</div>"
      ],
      "text/plain": [
       "                              phenotype/gene  \\\n",
       "16                              Calcium/CASR   \n",
       "13       Immature reticulocyte fraction/GMPR   \n",
       "5                      Apolipoprotein A/NEK7   \n",
       "11                           LDL direct/LDLR   \n",
       "31                            Phosphate/ALPL   \n",
       "9                           Cholesterol/LDLR   \n",
       "25                     Apolipoprotein B/LDLR   \n",
       "12         Platelet distribution width/TUBB1   \n",
       "18  Mean platelet (thrombocyte) volume/GFI1B   \n",
       "91              Mean reticulocyte volume/CAD   \n",
       "\n",
       "                                             features      mean    median  \\\n",
       "16  [EVE_scores_ASM, EVE_scores_ASM_na, site, phyl...  0.158051  0.159185   \n",
       "13  [polar_delta, polar_delta_**2, trv, dVol_**2, ...  0.165158  0.150898   \n",
       "5   [phastCons17way_primate, phastCons17way_primat...  0.196919  0.192690   \n",
       "11  [BayesDel_addAF_rankscore, BayesDel_addAF_rank...  0.169094  0.172389   \n",
       "31  [BayesDel_noAF_score, JXc, BayesDel_addAF_pred...  0.125282  0.126893   \n",
       "9   [MetaRNN_rankscore, MetaRNN_rankscore_**2, Met...  0.169660  0.167156   \n",
       "25  [BayesDel_addAF_score, BayesDel_addAF_score_**...  0.142124  0.126225   \n",
       "12  [VEST4_rankscore, VEST4_rankscore_**2, predict...  0.168485  0.140036   \n",
       "18  [NormASA, prediction, SecStr, MapReg, MetaLR_p...  0.155434  0.139781   \n",
       "91           [Eigen-phred_coding, dScore, pph2_TPR_y]  0.040002  0.043313   \n",
       "\n",
       "         std  #variants     maf                           phenotype   gene  \\\n",
       "16  0.025800        309  0.0100                             Calcium   CASR   \n",
       "13  0.041324        108  0.0001      Immature reticulocyte fraction   GMPR   \n",
       "5   0.064679         77  0.0010                    Apolipoprotein A   NEK7   \n",
       "11  0.051474        389  0.1000                          LDL direct   LDLR   \n",
       "31  0.039267        213  0.0010                           Phosphate   ALPL   \n",
       "9   0.063613        371  0.0010                         Cholesterol   LDLR   \n",
       "25  0.055314        385  0.1000                    Apolipoprotein B   LDLR   \n",
       "12  0.084614        212  0.0010         Platelet distribution width  TUBB1   \n",
       "18  0.080662        187  0.1000  Mean platelet (thrombocyte) volume  GFI1B   \n",
       "91  0.022532        794  0.1000            Mean reticulocyte volume    CAD   \n",
       "\n",
       "          ci  mean_ci_difference  \n",
       "16  0.050567            0.107484  \n",
       "13  0.080994            0.084164  \n",
       "5   0.126768            0.070151  \n",
       "11  0.100886            0.068207  \n",
       "31  0.076961            0.048321  \n",
       "9   0.124679            0.044981  \n",
       "25  0.108413            0.033711  \n",
       "12  0.165840            0.002645  \n",
       "18  0.158094           -0.002660  \n",
       "91  0.044162           -0.004161  "
      ]
     },
     "execution_count": 475,
     "metadata": {},
     "output_type": "execute_result"
    }
   ],
   "source": [
    "add_ci_filter_mean(pd.read_pickle(\"regression_multi_feature_normalized.pkl\")).sort_values(\"mean_ci_difference\", ascending=False).drop_duplicates(\"phenotype/gene\").head(10)"
   ]
  },
  {
   "cell_type": "code",
   "execution_count": 478,
   "id": "9b9b8e40-afa5-4c52-8c04-6f3ca6b67159",
   "metadata": {},
   "outputs": [
    {
     "data": {
      "text/html": [
       "<div>\n",
       "<style scoped>\n",
       "    .dataframe tbody tr th:only-of-type {\n",
       "        vertical-align: middle;\n",
       "    }\n",
       "\n",
       "    .dataframe tbody tr th {\n",
       "        vertical-align: top;\n",
       "    }\n",
       "\n",
       "    .dataframe thead th {\n",
       "        text-align: right;\n",
       "    }\n",
       "</style>\n",
       "<table border=\"1\" class=\"dataframe\">\n",
       "  <thead>\n",
       "    <tr style=\"text-align: right;\">\n",
       "      <th></th>\n",
       "      <th>phenotype/gene</th>\n",
       "      <th>features</th>\n",
       "      <th>mean</th>\n",
       "      <th>median</th>\n",
       "      <th>std</th>\n",
       "      <th>#variants</th>\n",
       "      <th>maf</th>\n",
       "      <th>phenotype</th>\n",
       "      <th>gene</th>\n",
       "      <th>ci</th>\n",
       "      <th>mean_ci_difference</th>\n",
       "    </tr>\n",
       "  </thead>\n",
       "  <tbody>\n",
       "    <tr>\n",
       "      <th>23</th>\n",
       "      <td>Calcium/CASR</td>\n",
       "      <td>[EVE_scores_ASM, EVE_scores_ASM_na, site, phyl...</td>\n",
       "      <td>0.140190</td>\n",
       "      <td>0.137172</td>\n",
       "      <td>0.028232</td>\n",
       "      <td>309</td>\n",
       "      <td>0.0100</td>\n",
       "      <td>Calcium</td>\n",
       "      <td>CASR</td>\n",
       "      <td>0.055334</td>\n",
       "      <td>0.084856</td>\n",
       "    </tr>\n",
       "    <tr>\n",
       "      <th>11</th>\n",
       "      <td>LDL direct/LDLR</td>\n",
       "      <td>[BayesDel_addAF_rankscore, BayesDel_addAF_rank...</td>\n",
       "      <td>0.173552</td>\n",
       "      <td>0.181602</td>\n",
       "      <td>0.056552</td>\n",
       "      <td>389</td>\n",
       "      <td>0.1000</td>\n",
       "      <td>LDL direct</td>\n",
       "      <td>LDLR</td>\n",
       "      <td>0.110841</td>\n",
       "      <td>0.062711</td>\n",
       "    </tr>\n",
       "    <tr>\n",
       "      <th>19</th>\n",
       "      <td>Apolipoprotein B/LDLR</td>\n",
       "      <td>[BayesDel_addAF_score, BayesDel_addAF_score_**...</td>\n",
       "      <td>0.151691</td>\n",
       "      <td>0.146632</td>\n",
       "      <td>0.046881</td>\n",
       "      <td>385</td>\n",
       "      <td>0.1000</td>\n",
       "      <td>Apolipoprotein B</td>\n",
       "      <td>LDLR</td>\n",
       "      <td>0.091885</td>\n",
       "      <td>0.059805</td>\n",
       "    </tr>\n",
       "    <tr>\n",
       "      <th>13</th>\n",
       "      <td>Cholesterol/LDLR</td>\n",
       "      <td>[MetaRNN_rankscore, MetaRNN_rankscore_**2, Met...</td>\n",
       "      <td>0.165898</td>\n",
       "      <td>0.154146</td>\n",
       "      <td>0.057607</td>\n",
       "      <td>371</td>\n",
       "      <td>0.0010</td>\n",
       "      <td>Cholesterol</td>\n",
       "      <td>LDLR</td>\n",
       "      <td>0.112908</td>\n",
       "      <td>0.052990</td>\n",
       "    </tr>\n",
       "    <tr>\n",
       "      <th>16</th>\n",
       "      <td>Platelet distribution width/TUBB1</td>\n",
       "      <td>[VEST4_rankscore, VEST4_rankscore_**2, predict...</td>\n",
       "      <td>0.158853</td>\n",
       "      <td>0.156984</td>\n",
       "      <td>0.058932</td>\n",
       "      <td>212</td>\n",
       "      <td>0.0010</td>\n",
       "      <td>Platelet distribution width</td>\n",
       "      <td>TUBB1</td>\n",
       "      <td>0.115505</td>\n",
       "      <td>0.043348</td>\n",
       "    </tr>\n",
       "    <tr>\n",
       "      <th>36</th>\n",
       "      <td>Phosphate/ALPL</td>\n",
       "      <td>[BayesDel_noAF_score, JXc, BayesDel_addAF_pred...</td>\n",
       "      <td>0.100641</td>\n",
       "      <td>0.105879</td>\n",
       "      <td>0.032495</td>\n",
       "      <td>220</td>\n",
       "      <td>0.1000</td>\n",
       "      <td>Phosphate</td>\n",
       "      <td>ALPL</td>\n",
       "      <td>0.063690</td>\n",
       "      <td>0.036952</td>\n",
       "    </tr>\n",
       "    <tr>\n",
       "      <th>9</th>\n",
       "      <td>Mean platelet (thrombocyte) volume/GFI1B</td>\n",
       "      <td>[NormASA, prediction, SecStr, MapReg, MetaLR_p...</td>\n",
       "      <td>0.174904</td>\n",
       "      <td>0.155708</td>\n",
       "      <td>0.075415</td>\n",
       "      <td>187</td>\n",
       "      <td>0.1000</td>\n",
       "      <td>Mean platelet (thrombocyte) volume</td>\n",
       "      <td>GFI1B</td>\n",
       "      <td>0.147811</td>\n",
       "      <td>0.027094</td>\n",
       "    </tr>\n",
       "    <tr>\n",
       "      <th>64</th>\n",
       "      <td>Platelet crit/JAK2</td>\n",
       "      <td>[VARITY_ER, VARITY_ER_**2, dgn, Nvars_**2, IdQ...</td>\n",
       "      <td>0.055770</td>\n",
       "      <td>0.057403</td>\n",
       "      <td>0.025594</td>\n",
       "      <td>483</td>\n",
       "      <td>0.1000</td>\n",
       "      <td>Platelet crit</td>\n",
       "      <td>JAK2</td>\n",
       "      <td>0.050164</td>\n",
       "      <td>0.005606</td>\n",
       "    </tr>\n",
       "    <tr>\n",
       "      <th>57</th>\n",
       "      <td>Platelet count/JAK2</td>\n",
       "      <td>[VEST4_rankscore, VEST4_rankscore_**2, EVE_sco...</td>\n",
       "      <td>0.064091</td>\n",
       "      <td>0.065249</td>\n",
       "      <td>0.035128</td>\n",
       "      <td>468</td>\n",
       "      <td>0.0010</td>\n",
       "      <td>Platelet count</td>\n",
       "      <td>JAK2</td>\n",
       "      <td>0.068849</td>\n",
       "      <td>-0.004758</td>\n",
       "    </tr>\n",
       "    <tr>\n",
       "      <th>25</th>\n",
       "      <td>Immature reticulocyte fraction/GMPR</td>\n",
       "      <td>[polar_delta, polar_delta_**2, trv, dVol_**2, ...</td>\n",
       "      <td>0.135646</td>\n",
       "      <td>0.119214</td>\n",
       "      <td>0.071794</td>\n",
       "      <td>108</td>\n",
       "      <td>0.0001</td>\n",
       "      <td>Immature reticulocyte fraction</td>\n",
       "      <td>GMPR</td>\n",
       "      <td>0.140714</td>\n",
       "      <td>-0.005068</td>\n",
       "    </tr>\n",
       "  </tbody>\n",
       "</table>\n",
       "</div>"
      ],
      "text/plain": [
       "                              phenotype/gene  \\\n",
       "23                              Calcium/CASR   \n",
       "11                           LDL direct/LDLR   \n",
       "19                     Apolipoprotein B/LDLR   \n",
       "13                          Cholesterol/LDLR   \n",
       "16         Platelet distribution width/TUBB1   \n",
       "36                            Phosphate/ALPL   \n",
       "9   Mean platelet (thrombocyte) volume/GFI1B   \n",
       "64                        Platelet crit/JAK2   \n",
       "57                       Platelet count/JAK2   \n",
       "25       Immature reticulocyte fraction/GMPR   \n",
       "\n",
       "                                             features      mean    median  \\\n",
       "23  [EVE_scores_ASM, EVE_scores_ASM_na, site, phyl...  0.140190  0.137172   \n",
       "11  [BayesDel_addAF_rankscore, BayesDel_addAF_rank...  0.173552  0.181602   \n",
       "19  [BayesDel_addAF_score, BayesDel_addAF_score_**...  0.151691  0.146632   \n",
       "13  [MetaRNN_rankscore, MetaRNN_rankscore_**2, Met...  0.165898  0.154146   \n",
       "16  [VEST4_rankscore, VEST4_rankscore_**2, predict...  0.158853  0.156984   \n",
       "36  [BayesDel_noAF_score, JXc, BayesDel_addAF_pred...  0.100641  0.105879   \n",
       "9   [NormASA, prediction, SecStr, MapReg, MetaLR_p...  0.174904  0.155708   \n",
       "64  [VARITY_ER, VARITY_ER_**2, dgn, Nvars_**2, IdQ...  0.055770  0.057403   \n",
       "57  [VEST4_rankscore, VEST4_rankscore_**2, EVE_sco...  0.064091  0.065249   \n",
       "25  [polar_delta, polar_delta_**2, trv, dVol_**2, ...  0.135646  0.119214   \n",
       "\n",
       "         std  #variants     maf                           phenotype   gene  \\\n",
       "23  0.028232        309  0.0100                             Calcium   CASR   \n",
       "11  0.056552        389  0.1000                          LDL direct   LDLR   \n",
       "19  0.046881        385  0.1000                    Apolipoprotein B   LDLR   \n",
       "13  0.057607        371  0.0010                         Cholesterol   LDLR   \n",
       "16  0.058932        212  0.0010         Platelet distribution width  TUBB1   \n",
       "36  0.032495        220  0.1000                           Phosphate   ALPL   \n",
       "9   0.075415        187  0.1000  Mean platelet (thrombocyte) volume  GFI1B   \n",
       "64  0.025594        483  0.1000                       Platelet crit   JAK2   \n",
       "57  0.035128        468  0.0010                      Platelet count   JAK2   \n",
       "25  0.071794        108  0.0001      Immature reticulocyte fraction   GMPR   \n",
       "\n",
       "          ci  mean_ci_difference  \n",
       "23  0.055334            0.084856  \n",
       "11  0.110841            0.062711  \n",
       "19  0.091885            0.059805  \n",
       "13  0.112908            0.052990  \n",
       "16  0.115505            0.043348  \n",
       "36  0.063690            0.036952  \n",
       "9   0.147811            0.027094  \n",
       "64  0.050164            0.005606  \n",
       "57  0.068849           -0.004758  \n",
       "25  0.140714           -0.005068  "
      ]
     },
     "execution_count": 478,
     "metadata": {},
     "output_type": "execute_result"
    }
   ],
   "source": [
    "add_ci_filter_mean(pd.read_pickle(\"regression_multi_feature_normalized.pkl\")).sort_values(\"mean_ci_difference\", ascending=False).drop_duplicates(\"phenotype/gene\").head(10)"
   ]
  },
  {
   "cell_type": "code",
   "execution_count": 263,
   "id": "e9209a7f-979f-4524-bd5e-02cedc0aaaeb",
   "metadata": {},
   "outputs": [],
   "source": [
    "# run regression after normalization on all the pairs, either using one set of features, the other, both to predict both."
   ]
  },
  {
   "cell_type": "code",
   "execution_count": 346,
   "id": "0ff7b3e4-9dcc-4b02-bf42-7bc67003725a",
   "metadata": {},
   "outputs": [
    {
     "data": {
      "text/html": [
       "<div>\n",
       "<style scoped>\n",
       "    .dataframe tbody tr th:only-of-type {\n",
       "        vertical-align: middle;\n",
       "    }\n",
       "\n",
       "    .dataframe tbody tr th {\n",
       "        vertical-align: top;\n",
       "    }\n",
       "\n",
       "    .dataframe thead th {\n",
       "        text-align: right;\n",
       "    }\n",
       "</style>\n",
       "<table border=\"1\" class=\"dataframe\">\n",
       "  <thead>\n",
       "    <tr style=\"text-align: right;\">\n",
       "      <th></th>\n",
       "      <th>phenotype/gene</th>\n",
       "      <th>features</th>\n",
       "      <th>mean</th>\n",
       "      <th>median</th>\n",
       "      <th>std</th>\n",
       "      <th>#variants</th>\n",
       "      <th>maf</th>\n",
       "      <th>phenotype</th>\n",
       "      <th>gene</th>\n",
       "      <th>ci</th>\n",
       "      <th>mean_ci_difference</th>\n",
       "    </tr>\n",
       "  </thead>\n",
       "  <tbody>\n",
       "    <tr>\n",
       "      <th>81</th>\n",
       "      <td>Cholesterol/LDLR</td>\n",
       "      <td>[MetaRNN_rankscore, MetaRNN_rankscore_**2, Met...</td>\n",
       "      <td>0.202489</td>\n",
       "      <td>0.209053</td>\n",
       "      <td>0.075768</td>\n",
       "      <td>371</td>\n",
       "      <td>0.0010</td>\n",
       "      <td>Cholesterol</td>\n",
       "      <td>LDLR</td>\n",
       "      <td>0.148503</td>\n",
       "      <td>0.053985</td>\n",
       "    </tr>\n",
       "    <tr>\n",
       "      <th>67</th>\n",
       "      <td>Apolipoprotein B/LDLR</td>\n",
       "      <td>[BayesDel_addAF_score, BayesDel_addAF_score_**...</td>\n",
       "      <td>0.214660</td>\n",
       "      <td>0.217351</td>\n",
       "      <td>0.086466</td>\n",
       "      <td>383</td>\n",
       "      <td>0.0100</td>\n",
       "      <td>Apolipoprotein B</td>\n",
       "      <td>LDLR</td>\n",
       "      <td>0.169470</td>\n",
       "      <td>0.045190</td>\n",
       "    </tr>\n",
       "    <tr>\n",
       "      <th>61</th>\n",
       "      <td>LDL direct/LDLR</td>\n",
       "      <td>[BayesDel_addAF_rankscore, BayesDel_addAF_rank...</td>\n",
       "      <td>0.219764</td>\n",
       "      <td>0.243628</td>\n",
       "      <td>0.091476</td>\n",
       "      <td>387</td>\n",
       "      <td>0.0100</td>\n",
       "      <td>LDL direct</td>\n",
       "      <td>LDLR</td>\n",
       "      <td>0.179289</td>\n",
       "      <td>0.040475</td>\n",
       "    </tr>\n",
       "    <tr>\n",
       "      <th>5</th>\n",
       "      <td>Mean platelet (thrombocyte) volume/GP1BB</td>\n",
       "      <td>[MetaRNN_rankscore, MetaRNN_rankscore_**2, Met...</td>\n",
       "      <td>0.407109</td>\n",
       "      <td>0.425871</td>\n",
       "      <td>0.196747</td>\n",
       "      <td>103</td>\n",
       "      <td>0.0010</td>\n",
       "      <td>Mean platelet (thrombocyte) volume</td>\n",
       "      <td>GP1BB</td>\n",
       "      <td>0.385617</td>\n",
       "      <td>0.021492</td>\n",
       "    </tr>\n",
       "    <tr>\n",
       "      <th>1</th>\n",
       "      <td>Albumin/FCGRT</td>\n",
       "      <td>[BayesDel_noAF_score, CpG, BayesDel_addAF_pred...</td>\n",
       "      <td>0.470391</td>\n",
       "      <td>0.539265</td>\n",
       "      <td>0.236761</td>\n",
       "      <td>116</td>\n",
       "      <td>0.0001</td>\n",
       "      <td>Albumin</td>\n",
       "      <td>FCGRT</td>\n",
       "      <td>0.464042</td>\n",
       "      <td>0.006349</td>\n",
       "    </tr>\n",
       "    <tr>\n",
       "      <th>777</th>\n",
       "      <td>Mean reticulocyte volume/CAD</td>\n",
       "      <td>[Eigen-phred_coding, dScore, pph2_TPR_y]</td>\n",
       "      <td>0.051864</td>\n",
       "      <td>0.055850</td>\n",
       "      <td>0.031601</td>\n",
       "      <td>794</td>\n",
       "      <td>0.1000</td>\n",
       "      <td>Mean reticulocyte volume</td>\n",
       "      <td>CAD</td>\n",
       "      <td>0.061938</td>\n",
       "      <td>-0.010073</td>\n",
       "    </tr>\n",
       "    <tr>\n",
       "      <th>307</th>\n",
       "      <td>Platelet crit/JAK2</td>\n",
       "      <td>[VARITY_ER, VARITY_ER_**2, dgn, Nvars_**2, IdQ...</td>\n",
       "      <td>0.112229</td>\n",
       "      <td>0.108302</td>\n",
       "      <td>0.066049</td>\n",
       "      <td>378</td>\n",
       "      <td>0.0001</td>\n",
       "      <td>Platelet crit</td>\n",
       "      <td>JAK2</td>\n",
       "      <td>0.129453</td>\n",
       "      <td>-0.017224</td>\n",
       "    </tr>\n",
       "    <tr>\n",
       "      <th>36</th>\n",
       "      <td>Body fat percentage/PPARG</td>\n",
       "      <td>[ClinPred_rankscore, ClinPred_pred, PrimateAI_...</td>\n",
       "      <td>0.255604</td>\n",
       "      <td>0.252169</td>\n",
       "      <td>0.141371</td>\n",
       "      <td>136</td>\n",
       "      <td>0.0100</td>\n",
       "      <td>Body fat percentage</td>\n",
       "      <td>PPARG</td>\n",
       "      <td>0.277083</td>\n",
       "      <td>-0.021479</td>\n",
       "    </tr>\n",
       "    <tr>\n",
       "      <th>225</th>\n",
       "      <td>Apolipoprotein B/PCSK9</td>\n",
       "      <td>[VARITY_ER, Nsubs_log, EVE_scores_ASM_**2, GER...</td>\n",
       "      <td>0.134450</td>\n",
       "      <td>0.137978</td>\n",
       "      <td>0.089024</td>\n",
       "      <td>279</td>\n",
       "      <td>0.1000</td>\n",
       "      <td>Apolipoprotein B</td>\n",
       "      <td>PCSK9</td>\n",
       "      <td>0.174483</td>\n",
       "      <td>-0.040033</td>\n",
       "    </tr>\n",
       "    <tr>\n",
       "      <th>381</th>\n",
       "      <td>Platelet count/JAK2</td>\n",
       "      <td>[VEST4_rankscore, VEST4_rankscore_**2, EVE_sco...</td>\n",
       "      <td>0.098177</td>\n",
       "      <td>0.103849</td>\n",
       "      <td>0.072486</td>\n",
       "      <td>378</td>\n",
       "      <td>0.0001</td>\n",
       "      <td>Platelet count</td>\n",
       "      <td>JAK2</td>\n",
       "      <td>0.142069</td>\n",
       "      <td>-0.043892</td>\n",
       "    </tr>\n",
       "  </tbody>\n",
       "</table>\n",
       "</div>"
      ],
      "text/plain": [
       "                               phenotype/gene  \\\n",
       "81                           Cholesterol/LDLR   \n",
       "67                      Apolipoprotein B/LDLR   \n",
       "61                            LDL direct/LDLR   \n",
       "5    Mean platelet (thrombocyte) volume/GP1BB   \n",
       "1                               Albumin/FCGRT   \n",
       "777              Mean reticulocyte volume/CAD   \n",
       "307                        Platelet crit/JAK2   \n",
       "36                  Body fat percentage/PPARG   \n",
       "225                    Apolipoprotein B/PCSK9   \n",
       "381                       Platelet count/JAK2   \n",
       "\n",
       "                                              features      mean    median  \\\n",
       "81   [MetaRNN_rankscore, MetaRNN_rankscore_**2, Met...  0.202489  0.209053   \n",
       "67   [BayesDel_addAF_score, BayesDel_addAF_score_**...  0.214660  0.217351   \n",
       "61   [BayesDel_addAF_rankscore, BayesDel_addAF_rank...  0.219764  0.243628   \n",
       "5    [MetaRNN_rankscore, MetaRNN_rankscore_**2, Met...  0.407109  0.425871   \n",
       "1    [BayesDel_noAF_score, CpG, BayesDel_addAF_pred...  0.470391  0.539265   \n",
       "777           [Eigen-phred_coding, dScore, pph2_TPR_y]  0.051864  0.055850   \n",
       "307  [VARITY_ER, VARITY_ER_**2, dgn, Nvars_**2, IdQ...  0.112229  0.108302   \n",
       "36   [ClinPred_rankscore, ClinPred_pred, PrimateAI_...  0.255604  0.252169   \n",
       "225  [VARITY_ER, Nsubs_log, EVE_scores_ASM_**2, GER...  0.134450  0.137978   \n",
       "381  [VEST4_rankscore, VEST4_rankscore_**2, EVE_sco...  0.098177  0.103849   \n",
       "\n",
       "          std  #variants     maf                           phenotype   gene  \\\n",
       "81   0.075768        371  0.0010                         Cholesterol   LDLR   \n",
       "67   0.086466        383  0.0100                    Apolipoprotein B   LDLR   \n",
       "61   0.091476        387  0.0100                          LDL direct   LDLR   \n",
       "5    0.196747        103  0.0010  Mean platelet (thrombocyte) volume  GP1BB   \n",
       "1    0.236761        116  0.0001                             Albumin  FCGRT   \n",
       "777  0.031601        794  0.1000            Mean reticulocyte volume    CAD   \n",
       "307  0.066049        378  0.0001                       Platelet crit   JAK2   \n",
       "36   0.141371        136  0.0100                 Body fat percentage  PPARG   \n",
       "225  0.089024        279  0.1000                    Apolipoprotein B  PCSK9   \n",
       "381  0.072486        378  0.0001                      Platelet count   JAK2   \n",
       "\n",
       "           ci  mean_ci_difference  \n",
       "81   0.148503            0.053985  \n",
       "67   0.169470            0.045190  \n",
       "61   0.179289            0.040475  \n",
       "5    0.385617            0.021492  \n",
       "1    0.464042            0.006349  \n",
       "777  0.061938           -0.010073  \n",
       "307  0.129453           -0.017224  \n",
       "36   0.277083           -0.021479  \n",
       "225  0.174483           -0.040033  \n",
       "381  0.142069           -0.043892  "
      ]
     },
     "execution_count": 346,
     "metadata": {},
     "output_type": "execute_result"
    }
   ],
   "source": [
    "phenotype_gene_top_features.sort_values(\"mean_ci_difference\", ascending=False).head(10)"
   ]
  },
  {
   "cell_type": "code",
   "execution_count": null,
   "id": "bc83cf24-d70f-4367-ae70-c9d781930f90",
   "metadata": {},
   "outputs": [],
   "source": [
    "# do just LDLR, but try to add other phenotypes to see whether this will improve MLP"
   ]
  },
  {
   "cell_type": "code",
   "execution_count": null,
   "id": "99f5ff4d-cfa4-4a0b-901f-f5c200272a4d",
   "metadata": {},
   "outputs": [],
   "source": []
  }
 ],
 "metadata": {
  "kernelspec": {
   "display_name": "notebook",
   "language": "python",
   "name": "notebook"
  },
  "language_info": {
   "codemirror_mode": {
    "name": "ipython",
    "version": 3
   },
   "file_extension": ".py",
   "mimetype": "text/x-python",
   "name": "python",
   "nbconvert_exporter": "python",
   "pygments_lexer": "ipython3",
   "version": "3.7.7"
  }
 },
 "nbformat": 4,
 "nbformat_minor": 5
}
