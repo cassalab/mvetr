{
 "cells": [
  {
   "cell_type": "code",
   "execution_count": 74,
   "id": "055f9408-1c2d-4938-b4fb-d9d27cd600a0",
   "metadata": {},
   "outputs": [],
   "source": [
    "import numpy as np"
   ]
  },
  {
   "cell_type": "code",
   "execution_count": 1,
   "id": "510669ed-87ba-4756-b083-4aa0aec5ce62",
   "metadata": {},
   "outputs": [],
   "source": [
    "from helpers import get_genebass_top"
   ]
  },
  {
   "cell_type": "code",
   "execution_count": 3,
   "id": "736e3dd6-b5d1-4bbd-b4a6-f8a5ca356d31",
   "metadata": {},
   "outputs": [],
   "source": [
    "genebass_top = get_genebass_top()"
   ]
  },
  {
   "cell_type": "code",
   "execution_count": 5,
   "id": "9c5012d7-8362-4875-a3e6-087192de26b3",
   "metadata": {},
   "outputs": [
    {
     "name": "stdout",
     "output_type": "stream",
     "text": [
      "total unique gene-trait pairs: 2836\n"
     ]
    }
   ],
   "source": [
    "print(f\"total unique gene-trait pairs: {(genebass_top.Phenotype + genebass_top.Gene).nunique()}\")"
   ]
  },
  {
   "cell_type": "code",
   "execution_count": 6,
   "id": "fc8062c5-c93e-4641-8e27-d1ec82839806",
   "metadata": {},
   "outputs": [
    {
     "name": "stdout",
     "output_type": "stream",
     "text": [
      "total genes: 1323\n"
     ]
    }
   ],
   "source": [
    "print(f\"total genes: {genebass_top.Gene.nunique()}\")"
   ]
  },
  {
   "cell_type": "code",
   "execution_count": 7,
   "id": "fe006887-ebc5-494d-baf1-b5b542a08413",
   "metadata": {},
   "outputs": [
    {
     "name": "stdout",
     "output_type": "stream",
     "text": [
      "total phenotypes: 99\n"
     ]
    }
   ],
   "source": [
    "print(f\"total phenotypes: {genebass_top.Phenotype.nunique()}\")"
   ]
  },
  {
   "cell_type": "code",
   "execution_count": 79,
   "id": "c7266c7f-c333-4137-8750-876ab48391b1",
   "metadata": {},
   "outputs": [
    {
     "name": "stdout",
     "output_type": "stream",
     "text": [
      "\\begin{tabular}{rrrrrrrrrr}\n",
      "\\toprule\n",
      "  1259 &   1269 &   2217 &   2443 &   2463 &   2714 &   3581 &    6148 &    6150 &   6152 \\\\\n",
      "  6153 &   6154 &   6177 &  20001 &  20002 &  20003 &  20004 &   20405 &   20407 &  20408 \\\\\n",
      " 20409 &  20505 &  20508 &  20509 &  20510 &  20511 &  20512 &   20514 &   20518 &  20544 \\\\\n",
      " 21001 &  22200 &  23099 &  23104 &  30000 &  30010 &  30020 &   30030 &   30040 &  30050 \\\\\n",
      " 30060 &  30070 &  30080 &  30090 &  30100 &  30110 &  30120 &   30130 &   30140 &  30150 \\\\\n",
      " 30160 &  30180 &  30190 &  30200 &  30210 &  30220 &  30240 &   30250 &   30260 &  30270 \\\\\n",
      " 30280 &  30290 &  30300 &  30500 &  30510 &  30600 &  30610 &   30620 &   30630 &  30640 \\\\\n",
      " 30650 &  30660 &  30670 &  30680 &  30690 &  30700 &  30710 &   30720 &   30730 &  30740 \\\\\n",
      " 30750 &  30760 &  30770 &  30780 &  30790 &  30800 &  30810 &   30830 &   30840 &  30850 \\\\\n",
      " 30860 &  30870 &  30880 &  30890 &  40007 &  41200 &  41210 &  131766 &  131768 &     -1 \\\\\n",
      "\\bottomrule\n",
      "\\end{tabular}\n",
      "\n"
     ]
    }
   ],
   "source": [
    "print(pd.DataFrame(np.array(pd.DataFrame(genebass_top.Phenotype.astype(int).unique(), columns=[\"UKB Phenocode\"]\n",
    "                                  ).sort_values(\"UKB Phenocode\").iloc[:, 0].values.tolist() + [-1]).reshape((10, -1))).to_latex(index=False, header=False))\n"
   ]
  },
  {
   "cell_type": "code",
   "execution_count": 10,
   "id": "44e26ebd-a275-4108-ac9b-b3a7dda09f54",
   "metadata": {},
   "outputs": [
    {
     "data": {
      "text/plain": [
       "Trait type\n",
       "categorical             15\n",
       "continuous              82\n",
       "icd_first_occurrence     2\n",
       "Name: Description, dtype: int64"
      ]
     },
     "execution_count": 10,
     "metadata": {},
     "output_type": "execute_result"
    }
   ],
   "source": [
    "# continuous vs categorical phenotypes\n",
    "genebass_top.drop_duplicates(\"Phenotype\").groupby(\"Trait type\").count().Description"
   ]
  },
  {
   "cell_type": "code",
   "execution_count": 14,
   "id": "5ca6dbf2-c3a5-41fe-ac09-1ad4be364642",
   "metadata": {},
   "outputs": [
    {
     "data": {
      "text/plain": [
       "Gene                       0\n",
       "Associated phenotypes    793\n",
       "dtype: int64"
      ]
     },
     "execution_count": 14,
     "metadata": {},
     "output_type": "execute_result"
    }
   ],
   "source": [
    "# number of genes associated with a single phenotype\n",
    "(genebass_top.groupby(\"Gene\").count().sort_values(\"Phenotype\", ascending=False).Phenotype.reset_index(\n",
    ").rename(columns={\"Phenotype\": \"Associated phenotypes\"}) == 1).sum()"
   ]
  },
  {
   "cell_type": "code",
   "execution_count": 15,
   "id": "db61d77c-95e5-429e-8135-acc1bad8ec9b",
   "metadata": {},
   "outputs": [
    {
     "data": {
      "text/plain": [
       "Gene                     1323\n",
       "Associated phenotypes     530\n",
       "dtype: int64"
      ]
     },
     "execution_count": 15,
     "metadata": {},
     "output_type": "execute_result"
    }
   ],
   "source": [
    "# number of genes associated with a multiple phenotypes\n",
    "(genebass_top.groupby(\"Gene\").count().sort_values(\"Phenotype\", ascending=False).Phenotype.reset_index(\n",
    ").rename(columns={\"Phenotype\": \"Associated phenotypes\"}) != 1).sum()"
   ]
  },
  {
   "cell_type": "code",
   "execution_count": 41,
   "id": "1449cbc3-da4d-4be7-abde-47024bebb2a2",
   "metadata": {},
   "outputs": [
    {
     "name": "stdout",
     "output_type": "stream",
     "text": [
      "\\begin{tabular}{llr}\n",
      "\\toprule\n",
      "{} &       Gene &  Associated Phenotypes \\\\\n",
      "\\midrule\n",
      "0 &  TNFRSF13B &                     24 \\\\\n",
      "1 &      SH2B3 &                     24 \\\\\n",
      "2 &       JAK2 &                     16 \\\\\n",
      "3 &     PRRC2A &                     15 \\\\\n",
      "4 &     PIEZO1 &                     15 \\\\\n",
      "5 &       CDSN &                     14 \\\\\n",
      "6 &       GNB1 &                     14 \\\\\n",
      "7 &     MFSD2B &                     14 \\\\\n",
      "8 &     NOTCH4 &                     14 \\\\\n",
      "9 &     LY6G6F &                     13 \\\\\n",
      "\\bottomrule\n",
      "\\end{tabular}\n",
      "\n"
     ]
    }
   ],
   "source": [
    "print(genebass_top.groupby(\"Gene\").count().sort_values(\"Phenotype\", ascending=False).Phenotype.reset_index(\n",
    ").rename(columns={\"Phenotype\": \"Associated Phenotypes\", \"Gene\": \"Gene\"}).head(10).to_latex())"
   ]
  },
  {
   "cell_type": "code",
   "execution_count": null,
   "id": "8d02dde6-4905-4df1-917f-9e688ac72bf0",
   "metadata": {},
   "outputs": [],
   "source": []
  }
 ],
 "metadata": {
  "kernelspec": {
   "display_name": "notebook",
   "language": "python",
   "name": "notebook"
  },
  "language_info": {
   "codemirror_mode": {
    "name": "ipython",
    "version": 3
   },
   "file_extension": ".py",
   "mimetype": "text/x-python",
   "name": "python",
   "nbconvert_exporter": "python",
   "pygments_lexer": "ipython3",
   "version": "3.7.7"
  }
 },
 "nbformat": 4,
 "nbformat_minor": 5
}
